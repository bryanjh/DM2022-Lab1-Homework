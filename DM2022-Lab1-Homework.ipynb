{
 "cells": [
  {
   "cell_type": "markdown",
   "metadata": {},
   "source": [
    "### Student Information\n",
    "Name:\n",
    "\n",
    "Student ID:\n",
    "\n",
    "GitHub ID:"
   ]
  },
  {
   "cell_type": "markdown",
   "metadata": {},
   "source": [
    "---"
   ]
  },
  {
   "cell_type": "markdown",
   "metadata": {},
   "source": [
    "### Instructions"
   ]
  },
  {
   "cell_type": "markdown",
   "metadata": {},
   "source": [
    "1. First: do the **take home** exercises in the [DM2022-Lab1-Master](https://github.com/keziatamus/DM2022-Lab1-Master). You may need to copy some cells from the Lab notebook to this notebook. __This part is worth 20% of your grade.__\n",
    "\n",
    "\n",
    "2. Second: follow the same process from the [DM2022-Lab1-Master](https://github.com/keziatamus/DM2022-Lab1-Master) on **the new dataset**. You don't need to explain all details as we did (some **minimal comments** explaining your code are useful though).  __This part is worth 30% of your grade.__\n",
    "    - Download the [the new dataset](https://archive.ics.uci.edu/ml/datasets/Sentiment+Labelled+Sentences#). The dataset contains a `sentence` and `score` label. Read the specificiations of the dataset for details. \n",
    "    - You are allowed to use and modify the `helper` functions in the folder of the first lab session (notice they may need modification) or create your own.\n",
    "\n",
    "\n",
    "3. Third: please attempt the following tasks on **the new dataset**. __This part is worth 30% of your grade.__\n",
    "    - Generate meaningful **new data visualizations**. Refer to online resources and the Data Mining textbook for inspiration and ideas. \n",
    "    - Generate **TF-IDF features** from the tokens of each text. This will generating a document matrix, however, the weights will be computed differently (using the TF-IDF value of each word per document as opposed to the word frequency). Refer to this Sciki-learn [guide](http://scikit-learn.org/stable/modules/generated/sklearn.feature_extraction.text.TfidfVectorizer.html) .\n",
    "    - Implement a simple **Naive Bayes classifier** that automatically classifies the records into their categories. Use both the TF-IDF features and word frequency features to build two seperate classifiers. Comment on the differences.  Refer to this [article](https://hub.packtpub.com/implementing-3-naive-bayes-classifiers-in-scikit-learn/).\n",
    "\n",
    "\n",
    "4. Fourth: In the lab, we applied each step really quickly just to illustrate how to work with your dataset. There are somethings that are not ideal or the most efficient/meaningful. Each dataset can be habdled differently as well. What are those inefficent parts you noticed? How can you improve the Data preprocessing for these specific datasets? __This part is worth 10% of your grade.__\n",
    "\n",
    "\n",
    "5. Fifth: It's hard for us to follow if your code is messy, so please **tidy up your notebook** and **add minimal comments where needed**. __This part is worth 10% of your grade.__\n",
    "\n",
    "\n",
    "You can submit your homework following these guidelines: [Git Intro & How to hand your homework](https://github.com/keziatamus/DM2022-Lab1-Homework/blob/main/Git%20Intro%20%26%20How%20to%20hand%20your%20homework.ipynb). Make sure to commit and save your changes to your repository __BEFORE the deadline (October 20th 11:59 pm, Thursday)__. "
   ]
  },
  {
   "cell_type": "code",
   "execution_count": 44,
   "metadata": {},
   "outputs": [],
   "source": [
    "### Begin Assignment Here\n",
    "categories = ['alt.atheism', 'soc.religion.christian', 'comp.graphics', 'sci.med']\n",
    "from sklearn.datasets import fetch_20newsgroups\n",
    "\n",
    "twenty_train = fetch_20newsgroups(subset='train', categories=categories,\n",
    "                                  shuffle=True, random_state=42)\n",
    "import pandas as pd\n",
    "\n",
    "# my functions\n",
    "import helpers.data_mining_helpers as dmh\n",
    "\n",
    "# construct dataframe from a list\n",
    "X = pd.DataFrame.from_records(dmh.format_rows(twenty_train), columns= ['text'])\n",
    "X['category'] = twenty_train.target\n",
    "X['category_name'] = X.category.apply(lambda t: dmh.format_labels(t, twenty_train))"
   ]
  },
  {
   "cell_type": "code",
   "execution_count": 2,
   "metadata": {},
   "outputs": [
    {
     "data": {
      "text/plain": [
       "'alt.atheism'"
      ]
     },
     "execution_count": 2,
     "metadata": {},
     "output_type": "execute_result"
    }
   ],
   "source": [
    "# exercise 2\n",
    "X.iat[100,2]"
   ]
  },
  {
   "cell_type": "code",
   "execution_count": 3,
   "metadata": {},
   "outputs": [
    {
     "data": {
      "text/plain": [
       "0     True\n",
       "1     True\n",
       "2    False\n",
       "3    False\n",
       "4     True\n",
       "5    False\n",
       "Name: missing_example, dtype: bool"
      ]
     },
     "execution_count": 3,
     "metadata": {},
     "output_type": "execute_result"
    }
   ],
   "source": [
    "# ex 5\n",
    "import numpy as np\n",
    "\n",
    "NA_dict = [{ 'id': 'A', 'missing_example': np.nan },\n",
    "           { 'id': 'B'                    },\n",
    "           { 'id': 'C', 'missing_example': 'NaN'  },\n",
    "           { 'id': 'D', 'missing_example': 'None' },\n",
    "           { 'id': 'E', 'missing_example':  None  },\n",
    "           { 'id': 'F', 'missing_example': ''     }]\n",
    "\n",
    "NA_df = pd.DataFrame(NA_dict, columns = ['id','missing_example'])\n",
    "NA_df\n",
    "NA_df['missing_example'].isnull()\n",
    "\n",
    "# ans: because the datatype is a string or char using ' ', any content using this or inside will be considered as a string/char, e.g 'blabla'"
   ]
  },
  {
   "cell_type": "code",
   "execution_count": 50,
   "metadata": {},
   "outputs": [
    {
     "data": {
      "text/html": [
       "<div>\n",
       "<style scoped>\n",
       "    .dataframe tbody tr th:only-of-type {\n",
       "        vertical-align: middle;\n",
       "    }\n",
       "\n",
       "    .dataframe tbody tr th {\n",
       "        vertical-align: top;\n",
       "    }\n",
       "\n",
       "    .dataframe thead th {\n",
       "        text-align: right;\n",
       "    }\n",
       "</style>\n",
       "<table border=\"1\" class=\"dataframe\">\n",
       "  <thead>\n",
       "    <tr style=\"text-align: right;\">\n",
       "      <th></th>\n",
       "      <th>text</th>\n",
       "      <th>category</th>\n",
       "      <th>category_name</th>\n",
       "    </tr>\n",
       "  </thead>\n",
       "  <tbody>\n",
       "    <tr>\n",
       "      <th>1944</th>\n",
       "      <td>From: aron@tikal.ced.berkeley.edu (Aron Bonar)...</td>\n",
       "      <td>1</td>\n",
       "      <td>comp.graphics</td>\n",
       "    </tr>\n",
       "    <tr>\n",
       "      <th>206</th>\n",
       "      <td>From: jil@donuts0.uucp (Jamie Lubin) Subject: ...</td>\n",
       "      <td>2</td>\n",
       "      <td>sci.med</td>\n",
       "    </tr>\n",
       "    <tr>\n",
       "      <th>1478</th>\n",
       "      <td>From: dr_bobo@ponton.hanse.de (Boris Pruessman...</td>\n",
       "      <td>1</td>\n",
       "      <td>comp.graphics</td>\n",
       "    </tr>\n",
       "    <tr>\n",
       "      <th>630</th>\n",
       "      <td>From: graeme@labtam.labtam.oz.au (Graeme Gill)...</td>\n",
       "      <td>1</td>\n",
       "      <td>comp.graphics</td>\n",
       "    </tr>\n",
       "  </tbody>\n",
       "</table>\n",
       "</div>"
      ],
      "text/plain": [
       "                                                   text  category  \\\n",
       "1944  From: aron@tikal.ced.berkeley.edu (Aron Bonar)...         1   \n",
       "206   From: jil@donuts0.uucp (Jamie Lubin) Subject: ...         2   \n",
       "1478  From: dr_bobo@ponton.hanse.de (Boris Pruessman...         1   \n",
       "630   From: graeme@labtam.labtam.oz.au (Graeme Gill)...         1   \n",
       "\n",
       "      category_name  \n",
       "1944  comp.graphics  \n",
       "206         sci.med  \n",
       "1478  comp.graphics  \n",
       "630   comp.graphics  "
      ]
     },
     "execution_count": 50,
     "metadata": {},
     "output_type": "execute_result"
    }
   ],
   "source": [
    "# ex 6\n",
    "X_sample = X.sample(n=1000)\n",
    "X_sample[0:4]\n",
    "# in this example we take a few sample article using .sample() and in the parameter we can take a few sample from our created data. \n",
    "# for our case we take 1000, and the order of the data will be randomize, since it take the sample randomly"
   ]
  },
  {
   "cell_type": "code",
   "execution_count": 49,
   "metadata": {},
   "outputs": [
    {
     "ename": "NameError",
     "evalue": "name 'X_sample' is not defined",
     "output_type": "error",
     "traceback": [
      "\u001b[1;31m---------------------------------------------------------------------------\u001b[0m",
      "\u001b[1;31mNameError\u001b[0m                                 Traceback (most recent call last)",
      "Input \u001b[1;32mIn [49]\u001b[0m, in \u001b[0;36m<cell line: 6>\u001b[1;34m()\u001b[0m\n\u001b[0;32m      3\u001b[0m get_ipython()\u001b[38;5;241m.\u001b[39mrun_line_magic(\u001b[38;5;124m'\u001b[39m\u001b[38;5;124mmatplotlib\u001b[39m\u001b[38;5;124m'\u001b[39m, \u001b[38;5;124m'\u001b[39m\u001b[38;5;124minline\u001b[39m\u001b[38;5;124m'\u001b[39m)\n\u001b[0;32m      4\u001b[0m \u001b[38;5;66;03m#plot method 1\u001b[39;00m\n\u001b[1;32m----> 6\u001b[0m A \u001b[38;5;241m=\u001b[39m \u001b[43mX_sample\u001b[49m\u001b[38;5;241m.\u001b[39mcategory_name\u001b[38;5;241m.\u001b[39mvalue_counts()\u001b[38;5;241m.\u001b[39mreindex_like(X\u001b[38;5;241m.\u001b[39mcategory_name\u001b[38;5;241m.\u001b[39mvalue_counts())\n\u001b[0;32m      7\u001b[0m B \u001b[38;5;241m=\u001b[39m X\u001b[38;5;241m.\u001b[39mcategory_name\u001b[38;5;241m.\u001b[39mvalue_counts()\n\u001b[0;32m      9\u001b[0m X_axis \u001b[38;5;241m=\u001b[39m np\u001b[38;5;241m.\u001b[39marange(\u001b[38;5;28mlen\u001b[39m(categories))\n",
      "\u001b[1;31mNameError\u001b[0m: name 'X_sample' is not defined"
     ]
    }
   ],
   "source": [
    "# ex 8\n",
    "import matplotlib.pyplot as plt\n",
    "%matplotlib inline\n",
    "#plot method 1\n",
    "\n",
    "A = X_sample.category_name.value_counts().reindex_like(X.category_name.value_counts())\n",
    "B = X.category_name.value_counts()\n",
    "\n",
    "X_axis = np.arange(len(categories))\n",
    "\n",
    "plt.bar(X_axis - 0.1, B, 0.2, label = 'X')\n",
    "plt.bar(X_axis + 0.1, A, 0.2, label = 'X_sample')\n",
    "\n",
    "plt.xticks(X_axis, X.category_name.value_counts().index.tolist())\n",
    "plt.title(\"Category Distribution\")\n",
    "plt.legend()\n",
    "plt.show()\n",
    "#plot method 2\n",
    "X_sample.category_name.value_counts().reindex_like(X.category_name.value_counts()).plot(kind = 'bar',\n",
    "                                           title = 'Category distribution',\n",
    "                                           ylim = [0, max(X_sample.category_name.value_counts())], \n",
    "                                           rot = 0, fontsize = 12, figsize = (8,5), position = 0, width = 0.2, color = 'orange', legend = True)\n",
    "X.category_name.value_counts().plot(kind = 'bar',\n",
    "                                    title = 'Category distribution',\n",
    "                                    ylim = [0, 650],        \n",
    "                                    rot = 0, fontsize = 11, figsize = (8,5), position = 1, width = 0.2, legend = True)"
   ]
  },
  {
   "cell_type": "code",
   "execution_count": 46,
   "metadata": {},
   "outputs": [
    {
     "data": {
      "text/plain": [
       "array(['01'], dtype=object)"
      ]
     },
     "execution_count": 46,
     "metadata": {},
     "output_type": "execute_result"
    }
   ],
   "source": [
    "import nltk\n",
    "\n",
    "from sklearn.feature_extraction.text import CountVectorizer\n",
    "# ex 10\n",
    "count_vect = CountVectorizer()\n",
    "X_counts = count_vect.fit_transform(X.text) #learn the vocabulary and return document-term matrix\n",
    "# ex 10\n",
    "idx = np.where(X_counts[4,0:1000].toarray() == 1)[1][1]\n",
    "count_vect.get_feature_names_out()[idx:idx+1]\n",
    "\n"
   ]
  },
  {
   "cell_type": "code",
   "execution_count": 7,
   "metadata": {},
   "outputs": [
    {
     "name": "stdout",
     "output_type": "stream",
     "text": [
      "    10  aids  care  children  dyer  evidence  hiv  msg  nasa  patients\n",
      "0    0     0     0         0     0         0    0    0     0         0\n",
      "1    0     0     0         0     0         0    0    0     0         0\n",
      "2    0     0     0         0     0         0    0    7     0         0\n",
      "3    1     0     0         0     0         0    0    0     0         0\n",
      "4    0     0     0         0     0         0    0    0     0         0\n",
      "..  ..   ...   ...       ...   ...       ...  ...  ...   ...       ...\n",
      "95   0     0     1         0     0         0    0    0     0         0\n",
      "96   0     0     0         0     2         0    0    0     0         0\n",
      "97   0     0     0         0     0         0    0    0     0         0\n",
      "98   0     0     0         0     0         0    0    0     0         0\n",
      "99   0     0     0         0     0         0    0    0     0         0\n",
      "\n",
      "[100 rows x 10 columns]\n"
     ]
    },
    {
     "data": {
      "image/png": "[encoded data removed]",
      "text/plain": [
       "<Figure size 648x504 with 2 Axes>"
      ]
     },
     "metadata": {
      "needs_background": "light"
     },
     "output_type": "display_data"
    }
   ],
   "source": [
    "# ex 11\n",
    "import seaborn as sns\n",
    "'''here I'm trying to take use a single category of the category_name = sci.med\n",
    "i think when using a single category, you will find word that are in common and will be used by other article'''\n",
    "X_sample_sci_med = X[X['category_name']== \"sci.med\"].sample(n= 100)\n",
    "count_vect_sci_med = CountVectorizer(min_df = 2, max_features = 10, max_df = 10)\n",
    "'''\n",
    "'''\n",
    "X_counts_sci_med = count_vect_sci_med.fit_transform(X_sample_sci_med.text) #learn the vocabulary and return document-term matrix\n",
    "\n",
    "plot_x_sc = [\"term_\"+str(i) for i in count_vect_sci_med.get_feature_names_out()[0:30]]\n",
    "plot_y_sc = [\"doc_\"+ str(i) for i in list(X_sample_sci_med.index)[0:30]]\n",
    "plot_z_sc = X_counts_sci_med[0:30, 0:30].toarray()\n",
    "\n",
    "df_todraw = pd.DataFrame(plot_z_sc, columns = plot_x_sc, index = plot_y_sc)\n",
    "plt.subplots(figsize=(9, 7))\n",
    "ax = sns.heatmap(df_todraw,\n",
    "                 cmap=\"PuRd\",\n",
    "                 vmin=0, vmax=1, annot=True)\n",
    "\n",
    "count_array = X_counts_sci_med.toarray()\n",
    "df = pd.DataFrame(data=count_array,columns = count_vect_sci_med.get_feature_names_out())\n",
    "print(df)"
   ]
  },
  {
   "cell_type": "code",
   "execution_count": 8,
   "metadata": {},
   "outputs": [
    {
     "data": {
      "image/png": "[encoded data removed]",
      "text/plain": [
       "<Figure size 432x288 with 1 Axes>"
      ]
     },
     "metadata": {
      "needs_background": "light"
     },
     "output_type": "display_data"
    }
   ],
   "source": [
    "# ex 12\n",
    "from sklearn.decomposition import PCA\n",
    "\n",
    "from mpl_toolkits.mplot3d import Axes3D\n",
    "col = ['coral', 'blue', 'black', 'orange']\n",
    "fig = plt.figure()\n",
    "ax = fig.add_subplot(projection = \"3d\")\n",
    "X_reduced_3 = PCA(n_components = 3).fit_transform(X_counts.toarray())\n",
    "\n",
    "for c, category in zip(col, categories):\n",
    "    xs = X_reduced_3[X['category_name'] == category].T[0]\n",
    "    ys = X_reduced_3[X['category_name'] == category].T[1]\n",
    "    zs = X_reduced_3[X['category_name'] == category].T[2]\n",
    "    \n",
    "    ax.scatter(xs, ys, zs, c = c, marker='o')\n",
    "    \n",
    "ax.set_xlabel('x')\n",
    "ax.set_ylabel('y')\n",
    "ax.set_zlabel('z')\n",
    "plt.show()"
   ]
  },
  {
   "cell_type": "code",
   "execution_count": null,
   "metadata": {},
   "outputs": [],
   "source": [
    "# ex 13"
   ]
  },
  {
   "cell_type": "code",
   "execution_count": 72,
   "metadata": {},
   "outputs": [
    {
     "name": "stdout",
     "output_type": "stream",
     "text": [
      "21\n"
     ]
    },
    {
     "data": {
      "image/png": "[encoded data removed]",
      "text/plain": [
       "<Figure size 720x720 with 1 Axes>"
      ]
     },
     "metadata": {
      "needs_background": "light"
     },
     "output_type": "display_data"
    }
   ],
   "source": [
    "# ex 14\n",
    "import seaborn as sns\n",
    "X_sample_comp_graphics = X[X['category_name']== \"comp.graphics\"].sample(n= 200)\n",
    "count_vect_comp_graphics = CountVectorizer(min_df = 1,max_features = 30,  max_df = 10,token_pattern=r'(?<![^\\s_])[^\\W_]{2,}(?![^\\s_])')\n",
    "X_counts_comp_graphics = count_vect_comp_graphics.fit_transform(X_sample_comp_graphics.text)\n",
    "\n",
    "term_frequencies = []\n",
    "for j in range(0,X_counts_comp_graphics.shape[1]):\n",
    "    term_frequencies.append(sum(X_counts_comp_graphics[:,j].toarray()))\n",
    "print(term_frequencies[3][0])\n",
    "\n",
    "term_frequencies = np.asarray(X_counts_comp_graphics.sum(axis=0))[0]\n",
    "\n",
    "\n",
    "plt.subplots(figsize=(10, 10))\n",
    "g = sns.barplot(x=count_vect_comp_graphics.get_feature_names_out()[:], \n",
    "            y=term_frequencies[:])\n",
    "g.set_xticklabels(count_vect_comp_graphics.get_feature_names_out()[:], rotation = 90);"
   ]
  },
  {
   "cell_type": "code",
   "execution_count": 54,
   "metadata": {},
   "outputs": [
    {
     "data": {
      "image/png": "[encoded data removed]",
      "text/plain": [
       "<Figure size 720x720 with 1 Axes>"
      ]
     },
     "metadata": {
      "needs_background": "light"
     },
     "output_type": "display_data"
    }
   ],
   "source": [
    "# ex 15\n",
    "import seaborn as sns\n",
    "import math\n",
    "X_sample_comp_graphics = X[X['category_name']== \"comp.graphics\"].sample(n= 100)\n",
    "count_vect_comp_graphics = CountVectorizer(min_df = 0, max_features = 100, token_pattern=r'(?<![^\\s_])[^\\W_]{2,}(?![^\\s_])', stop_words = 'english')\n",
    "X_counts_comp_graphics = count_vect_comp_graphics.fit_transform(X_sample_comp_graphics.text)\n",
    "\n",
    "term_frequencies = []\n",
    "for j in range(0,X_counts_comp_graphics.shape[1]):\n",
    "    term_frequencies.append(sum(X_counts_comp_graphics[:,j].toarray()))\n",
    "\n",
    "name_out = count_vect_comp_graphics.get_feature_names_out()\n",
    "name_out_ex = np.asarray(name_out)\n",
    "\n",
    "term_frequencies = np.asarray(X_counts_comp_graphics.sum(axis=0))[0]\n",
    "\n",
    "x = dict(sorted(zip(term_frequencies, name_out_ex), reverse = True))\n",
    "key_1 = []\n",
    "value_1 = []\n",
    "for key, value in x.items():\n",
    "    key_1.append(int(key))\n",
    "    value_1.append(value)\n",
    "\n",
    "count_array = X_counts_comp_graphics.toarray()\n",
    "plt.subplots(figsize=(10, 10))\n",
    "df = pd.DataFrame({\"y\": key_1,\n",
    "                   \"x\": value_1})\n",
    "b = sns.barplot(x= 'x',\n",
    "            y= 'y', data=df)\n",
    "b.set_xticklabels(value_1, rotation = 90);"
   ]
  },
  {
   "cell_type": "code",
   "execution_count": 80,
   "metadata": {},
   "outputs": [
    {
     "data": {
      "text/html": [
       "<div>\n",
       "<style scoped>\n",
       "    .dataframe tbody tr th:only-of-type {\n",
       "        vertical-align: middle;\n",
       "    }\n",
       "\n",
       "    .dataframe tbody tr th {\n",
       "        vertical-align: top;\n",
       "    }\n",
       "\n",
       "    .dataframe thead th {\n",
       "        text-align: right;\n",
       "    }\n",
       "</style>\n",
       "<table border=\"1\" class=\"dataframe\">\n",
       "  <thead>\n",
       "    <tr style=\"text-align: right;\">\n",
       "      <th></th>\n",
       "      <th>text</th>\n",
       "      <th>category</th>\n",
       "      <th>category_name</th>\n",
       "      <th>bin_category</th>\n",
       "    </tr>\n",
       "  </thead>\n",
       "  <tbody>\n",
       "    <tr>\n",
       "      <th>12</th>\n",
       "      <td>From: I3150101@dbstu1.rz.tu-bs.de (Benedikt Ro...</td>\n",
       "      <td>0</td>\n",
       "      <td>alt.atheism</td>\n",
       "      <td>[1, 0, 0, 0]</td>\n",
       "    </tr>\n",
       "    <tr>\n",
       "      <th>13</th>\n",
       "      <td>Subject: So what is Maddi? From: madhaus@netco...</td>\n",
       "      <td>0</td>\n",
       "      <td>alt.atheism</td>\n",
       "      <td>[1, 0, 0, 0]</td>\n",
       "    </tr>\n",
       "    <tr>\n",
       "      <th>17</th>\n",
       "      <td>Organization: Penn State University From: &lt;JSN...</td>\n",
       "      <td>0</td>\n",
       "      <td>alt.atheism</td>\n",
       "      <td>[1, 0, 0, 0]</td>\n",
       "    </tr>\n",
       "    <tr>\n",
       "      <th>19</th>\n",
       "      <td>Subject: Re: Don't more innocents die without ...</td>\n",
       "      <td>0</td>\n",
       "      <td>alt.atheism</td>\n",
       "      <td>[1, 0, 0, 0]</td>\n",
       "    </tr>\n",
       "    <tr>\n",
       "      <th>21</th>\n",
       "      <td>From: gmiller@worldbank.org (Gene C. Miller) S...</td>\n",
       "      <td>0</td>\n",
       "      <td>alt.atheism</td>\n",
       "      <td>[1, 0, 0, 0]</td>\n",
       "    </tr>\n",
       "    <tr>\n",
       "      <th>...</th>\n",
       "      <td>...</td>\n",
       "      <td>...</td>\n",
       "      <td>...</td>\n",
       "      <td>...</td>\n",
       "    </tr>\n",
       "    <tr>\n",
       "      <th>2231</th>\n",
       "      <td>Subject: Re: Feminism and Islam, again From: k...</td>\n",
       "      <td>0</td>\n",
       "      <td>alt.atheism</td>\n",
       "      <td>[1, 0, 0, 0]</td>\n",
       "    </tr>\n",
       "    <tr>\n",
       "      <th>2233</th>\n",
       "      <td>From: kmr4@po.CWRU.edu (Keith M. Ryan) Subject...</td>\n",
       "      <td>0</td>\n",
       "      <td>alt.atheism</td>\n",
       "      <td>[1, 0, 0, 0]</td>\n",
       "    </tr>\n",
       "    <tr>\n",
       "      <th>2234</th>\n",
       "      <td>From: David.Rice@ofa123.fidonet.org Subject: i...</td>\n",
       "      <td>0</td>\n",
       "      <td>alt.atheism</td>\n",
       "      <td>[1, 0, 0, 0]</td>\n",
       "    </tr>\n",
       "    <tr>\n",
       "      <th>2237</th>\n",
       "      <td>From: datepper@phoenix.Princeton.EDU (David Aa...</td>\n",
       "      <td>0</td>\n",
       "      <td>alt.atheism</td>\n",
       "      <td>[1, 0, 0, 0]</td>\n",
       "    </tr>\n",
       "    <tr>\n",
       "      <th>2250</th>\n",
       "      <td>From: ingles@engin.umich.edu (Ray Ingles) Subj...</td>\n",
       "      <td>0</td>\n",
       "      <td>alt.atheism</td>\n",
       "      <td>[1, 0, 0, 0]</td>\n",
       "    </tr>\n",
       "  </tbody>\n",
       "</table>\n",
       "<p>480 rows × 4 columns</p>\n",
       "</div>"
      ],
      "text/plain": [
       "                                                   text  category  \\\n",
       "12    From: I3150101@dbstu1.rz.tu-bs.de (Benedikt Ro...         0   \n",
       "13    Subject: So what is Maddi? From: madhaus@netco...         0   \n",
       "17    Organization: Penn State University From: <JSN...         0   \n",
       "19    Subject: Re: Don't more innocents die without ...         0   \n",
       "21    From: gmiller@worldbank.org (Gene C. Miller) S...         0   \n",
       "...                                                 ...       ...   \n",
       "2231  Subject: Re: Feminism and Islam, again From: k...         0   \n",
       "2233  From: kmr4@po.CWRU.edu (Keith M. Ryan) Subject...         0   \n",
       "2234  From: David.Rice@ofa123.fidonet.org Subject: i...         0   \n",
       "2237  From: datepper@phoenix.Princeton.EDU (David Aa...         0   \n",
       "2250  From: ingles@engin.umich.edu (Ray Ingles) Subj...         0   \n",
       "\n",
       "     category_name  bin_category  \n",
       "12     alt.atheism  [1, 0, 0, 0]  \n",
       "13     alt.atheism  [1, 0, 0, 0]  \n",
       "17     alt.atheism  [1, 0, 0, 0]  \n",
       "19     alt.atheism  [1, 0, 0, 0]  \n",
       "21     alt.atheism  [1, 0, 0, 0]  \n",
       "...            ...           ...  \n",
       "2231   alt.atheism  [1, 0, 0, 0]  \n",
       "2233   alt.atheism  [1, 0, 0, 0]  \n",
       "2234   alt.atheism  [1, 0, 0, 0]  \n",
       "2237   alt.atheism  [1, 0, 0, 0]  \n",
       "2250   alt.atheism  [1, 0, 0, 0]  \n",
       "\n",
       "[480 rows x 4 columns]"
      ]
     },
     "execution_count": 80,
     "metadata": {},
     "output_type": "execute_result"
    }
   ],
   "source": [
    "# ex 16\n",
    "from sklearn import preprocessing, metrics, decomposition, pipeline, dummy\n",
    "mlb = preprocessing.LabelBinarizer()\n",
    "mlb.fit(X.category_name)\n",
    "X['bin_category'] = mlb.transform(X['category_name']).tolist()\n",
    "X[X[\"category\"] == 0]"
   ]
  },
  {
   "cell_type": "code",
   "execution_count": 1,
   "metadata": {},
   "outputs": [
    {
     "name": "stdout",
     "output_type": "stream",
     "text": [
      "                                              sentence  score\n",
      "0                             Wow... Loved this place.      1\n",
      "1                                   Crust is not good.      0\n",
      "2            Not tasty and the texture was just nasty.      0\n",
      "3    Stopped by during the late May bank holiday of...      1\n",
      "4    The selection on the menu was great and so wer...      1\n",
      "..                                                 ...    ...\n",
      "995  I think food should have flavor and texture an...      0\n",
      "996                           Appetite instantly gone.      0\n",
      "997  Overall I was not impressed and would not go b...      0\n",
      "998  The whole experience was underwhelming, and I ...      0\n",
      "999  Then, as if I hadn't wasted enough of my life ...      0\n",
      "\n",
      "[1000 rows x 2 columns]\n"
     ]
    }
   ],
   "source": [
    "import sklearn.feature_extraction.text\n",
    "import pandas as pd\n",
    "import helpers.data_mining_helpers as dmh\n",
    "import numpy as np\n",
    "txt_data_1 = pd.read_table(\"txt_data/yelp_labelled.txt\",index_col = False, names =  ['sentence', 'score'])\n",
    "txt_data_2 = pd.read_table(\"txt_data/imdb_labelled.txt\",index_col = False, names =  ['sentence', 'score'])\n",
    "txt_data_3 = pd.read_table(\"txt_data/amazon_cells_labelled.txt\",index_col = False, names =  ['sentence', 'score'])\n",
    "\n",
    "categories = ['imdb', 'amazon', 'yelp']\n",
    "\n",
    "print(txt_data_1)"
   ]
  },
  {
   "cell_type": "code",
   "execution_count": 2,
   "metadata": {},
   "outputs": [],
   "source": [
    "df_yelp = pd.DataFrame.from_records(txt_data_1)\n",
    "df_yelp[\"category\"] = categories[2]\n",
    "df_yelp[\"id_no\"] = int(0)\n",
    "df_imdb = pd.DataFrame.from_records(txt_data_2)\n",
    "df_imdb[\"category\"] = categories[0]\n",
    "df_imdb[\"id_no\"] = int(1)\n",
    "df_amazon = pd.DataFrame.from_records(txt_data_3)\n",
    "df_amazon[\"category\"] = categories[1]\n",
    "df_amazon[\"id_no\"] = int(2)\n",
    "\n",
    "frames = [df_yelp, df_imdb, df_amazon]\n",
    "\n",
    "df_all = pd.concat(frames, ignore_index = True)\n",
    "df_all = df_all.sample(frac=1).reset_index(drop = True)"
   ]
  },
  {
   "cell_type": "code",
   "execution_count": 24,
   "metadata": {},
   "outputs": [
    {
     "data": {
      "text/html": [
       "<div>\n",
       "<style scoped>\n",
       "    .dataframe tbody tr th:only-of-type {\n",
       "        vertical-align: middle;\n",
       "    }\n",
       "\n",
       "    .dataframe tbody tr th {\n",
       "        vertical-align: top;\n",
       "    }\n",
       "\n",
       "    .dataframe thead th {\n",
       "        text-align: right;\n",
       "    }\n",
       "</style>\n",
       "<table border=\"1\" class=\"dataframe\">\n",
       "  <thead>\n",
       "    <tr style=\"text-align: right;\">\n",
       "      <th></th>\n",
       "      <th>sentence</th>\n",
       "      <th>score</th>\n",
       "      <th>category</th>\n",
       "      <th>id_no</th>\n",
       "    </tr>\n",
       "  </thead>\n",
       "  <tbody>\n",
       "    <tr>\n",
       "      <th>0</th>\n",
       "      <td>It makes very strange ticking noises before it...</td>\n",
       "      <td>0</td>\n",
       "      <td>amazon</td>\n",
       "      <td>2</td>\n",
       "    </tr>\n",
       "    <tr>\n",
       "      <th>1</th>\n",
       "      <td>It's A PIECE OF CRAP!</td>\n",
       "      <td>0</td>\n",
       "      <td>amazon</td>\n",
       "      <td>2</td>\n",
       "    </tr>\n",
       "    <tr>\n",
       "      <th>2</th>\n",
       "      <td>I guess maybe we went on an off night but it w...</td>\n",
       "      <td>0</td>\n",
       "      <td>yelp</td>\n",
       "      <td>0</td>\n",
       "    </tr>\n",
       "    <tr>\n",
       "      <th>3</th>\n",
       "      <td>So don't go there if you are looking for good ...</td>\n",
       "      <td>0</td>\n",
       "      <td>yelp</td>\n",
       "      <td>0</td>\n",
       "    </tr>\n",
       "    <tr>\n",
       "      <th>4</th>\n",
       "      <td>What a great double cheeseburger!</td>\n",
       "      <td>1</td>\n",
       "      <td>yelp</td>\n",
       "      <td>0</td>\n",
       "    </tr>\n",
       "    <tr>\n",
       "      <th>...</th>\n",
       "      <td>...</td>\n",
       "      <td>...</td>\n",
       "      <td>...</td>\n",
       "      <td>...</td>\n",
       "    </tr>\n",
       "    <tr>\n",
       "      <th>2743</th>\n",
       "      <td>After two I felt disgusting.</td>\n",
       "      <td>0</td>\n",
       "      <td>yelp</td>\n",
       "      <td>0</td>\n",
       "    </tr>\n",
       "    <tr>\n",
       "      <th>2744</th>\n",
       "      <td>Works well.</td>\n",
       "      <td>1</td>\n",
       "      <td>amazon</td>\n",
       "      <td>2</td>\n",
       "    </tr>\n",
       "    <tr>\n",
       "      <th>2745</th>\n",
       "      <td>i got this phone around the end of may and i'm...</td>\n",
       "      <td>0</td>\n",
       "      <td>amazon</td>\n",
       "      <td>2</td>\n",
       "    </tr>\n",
       "    <tr>\n",
       "      <th>2746</th>\n",
       "      <td>As a courtroom drama, it's compelling, as an i...</td>\n",
       "      <td>1</td>\n",
       "      <td>imdb</td>\n",
       "      <td>1</td>\n",
       "    </tr>\n",
       "    <tr>\n",
       "      <th>2747</th>\n",
       "      <td>Phone is sturdy as all nokia bar phones are.</td>\n",
       "      <td>1</td>\n",
       "      <td>amazon</td>\n",
       "      <td>2</td>\n",
       "    </tr>\n",
       "  </tbody>\n",
       "</table>\n",
       "<p>2748 rows × 4 columns</p>\n",
       "</div>"
      ],
      "text/plain": [
       "                                               sentence  score category  id_no\n",
       "0     It makes very strange ticking noises before it...      0   amazon      2\n",
       "1                                 It's A PIECE OF CRAP!      0   amazon      2\n",
       "2     I guess maybe we went on an off night but it w...      0     yelp      0\n",
       "3     So don't go there if you are looking for good ...      0     yelp      0\n",
       "4                     What a great double cheeseburger!      1     yelp      0\n",
       "...                                                 ...    ...      ...    ...\n",
       "2743                       After two I felt disgusting.      0     yelp      0\n",
       "2744                                        Works well.      1   amazon      2\n",
       "2745  i got this phone around the end of may and i'm...      0   amazon      2\n",
       "2746  As a courtroom drama, it's compelling, as an i...      1     imdb      1\n",
       "2747       Phone is sturdy as all nokia bar phones are.      1   amazon      2\n",
       "\n",
       "[2748 rows x 4 columns]"
      ]
     },
     "execution_count": 24,
     "metadata": {},
     "output_type": "execute_result"
    }
   ],
   "source": [
    "df_all"
   ]
  },
  {
   "cell_type": "code",
   "execution_count": 25,
   "metadata": {},
   "outputs": [
    {
     "data": {
      "text/plain": [
       "0     It makes very strange ticking noises before it...\n",
       "1                                 It's A PIECE OF CRAP!\n",
       "2     I guess maybe we went on an off night but it w...\n",
       "3     So don't go there if you are looking for good ...\n",
       "4                     What a great double cheeseburger!\n",
       "5          Some highlights : Great quality nigiri here!\n",
       "6                              Wow... Loved this place.\n",
       "7     She ordered a toasted English muffin that came...\n",
       "8                        Would not recommend to others.\n",
       "9             O my gosh the best phone I have ever had.\n",
       "10                                        disappointed.\n",
       "11    This is a great product..... sure beats using ...\n",
       "Name: sentence, dtype: object"
      ]
     },
     "execution_count": 25,
     "metadata": {},
     "output_type": "execute_result"
    }
   ],
   "source": [
    "df_all.loc[:11,\"sentence\"]\n"
   ]
  },
  {
   "cell_type": "code",
   "execution_count": 26,
   "metadata": {},
   "outputs": [
    {
     "data": {
      "text/html": [
       "<div>\n",
       "<style scoped>\n",
       "    .dataframe tbody tr th:only-of-type {\n",
       "        vertical-align: middle;\n",
       "    }\n",
       "\n",
       "    .dataframe tbody tr th {\n",
       "        vertical-align: top;\n",
       "    }\n",
       "\n",
       "    .dataframe thead th {\n",
       "        text-align: right;\n",
       "    }\n",
       "</style>\n",
       "<table border=\"1\" class=\"dataframe\">\n",
       "  <thead>\n",
       "    <tr style=\"text-align: right;\">\n",
       "      <th></th>\n",
       "      <th>sentence</th>\n",
       "      <th>score</th>\n",
       "      <th>category</th>\n",
       "      <th>id_no</th>\n",
       "    </tr>\n",
       "  </thead>\n",
       "  <tbody>\n",
       "    <tr>\n",
       "      <th>13</th>\n",
       "      <td>This movie is a solid example of a bad plot an...</td>\n",
       "      <td>0</td>\n",
       "      <td>imdb</td>\n",
       "      <td>1</td>\n",
       "    </tr>\n",
       "    <tr>\n",
       "      <th>14</th>\n",
       "      <td>Lange had become a great actress.</td>\n",
       "      <td>1</td>\n",
       "      <td>imdb</td>\n",
       "      <td>1</td>\n",
       "    </tr>\n",
       "    <tr>\n",
       "      <th>16</th>\n",
       "      <td>I know that Jim O'Connor was very energetic an...</td>\n",
       "      <td>0</td>\n",
       "      <td>imdb</td>\n",
       "      <td>1</td>\n",
       "    </tr>\n",
       "    <tr>\n",
       "      <th>22</th>\n",
       "      <td>Lewis Black's considerable talent is wasted he...</td>\n",
       "      <td>0</td>\n",
       "      <td>imdb</td>\n",
       "      <td>1</td>\n",
       "    </tr>\n",
       "    <tr>\n",
       "      <th>23</th>\n",
       "      <td>I let my girlfriend talk me into seeing this -...</td>\n",
       "      <td>0</td>\n",
       "      <td>imdb</td>\n",
       "      <td>1</td>\n",
       "    </tr>\n",
       "    <tr>\n",
       "      <th>26</th>\n",
       "      <td>If only someone involved with it knew how to s...</td>\n",
       "      <td>0</td>\n",
       "      <td>imdb</td>\n",
       "      <td>1</td>\n",
       "    </tr>\n",
       "    <tr>\n",
       "      <th>34</th>\n",
       "      <td>Bad characters, bad story and bad acting.</td>\n",
       "      <td>0</td>\n",
       "      <td>imdb</td>\n",
       "      <td>1</td>\n",
       "    </tr>\n",
       "    <tr>\n",
       "      <th>36</th>\n",
       "      <td>I just saw this film and I recommend it.</td>\n",
       "      <td>1</td>\n",
       "      <td>imdb</td>\n",
       "      <td>1</td>\n",
       "    </tr>\n",
       "    <tr>\n",
       "      <th>41</th>\n",
       "      <td>By the time the film ended, I not only dislike...</td>\n",
       "      <td>0</td>\n",
       "      <td>imdb</td>\n",
       "      <td>1</td>\n",
       "    </tr>\n",
       "    <tr>\n",
       "      <th>49</th>\n",
       "      <td>It even has its sweet moments.</td>\n",
       "      <td>1</td>\n",
       "      <td>imdb</td>\n",
       "      <td>1</td>\n",
       "    </tr>\n",
       "  </tbody>\n",
       "</table>\n",
       "</div>"
      ],
      "text/plain": [
       "                                             sentence  score category  id_no\n",
       "13  This movie is a solid example of a bad plot an...      0     imdb      1\n",
       "14                Lange had become a great actress.        1     imdb      1\n",
       "16  I know that Jim O'Connor was very energetic an...      0     imdb      1\n",
       "22  Lewis Black's considerable talent is wasted he...      0     imdb      1\n",
       "23  I let my girlfriend talk me into seeing this -...      0     imdb      1\n",
       "26  If only someone involved with it knew how to s...      0     imdb      1\n",
       "34        Bad characters, bad story and bad acting.        0     imdb      1\n",
       "36         I just saw this film and I recommend it.        1     imdb      1\n",
       "41  By the time the film ended, I not only dislike...      0     imdb      1\n",
       "49                   It even has its sweet moments.        1     imdb      1"
      ]
     },
     "execution_count": 26,
     "metadata": {},
     "output_type": "execute_result"
    }
   ],
   "source": [
    "df_all[df_all[\"category\"] == \"imdb\"].iloc[0:10]"
   ]
  },
  {
   "cell_type": "code",
   "execution_count": 27,
   "metadata": {},
   "outputs": [
    {
     "data": {
      "text/html": [
       "<div>\n",
       "<style scoped>\n",
       "    .dataframe tbody tr th:only-of-type {\n",
       "        vertical-align: middle;\n",
       "    }\n",
       "\n",
       "    .dataframe tbody tr th {\n",
       "        vertical-align: top;\n",
       "    }\n",
       "\n",
       "    .dataframe thead th {\n",
       "        text-align: right;\n",
       "    }\n",
       "</style>\n",
       "<table border=\"1\" class=\"dataframe\">\n",
       "  <thead>\n",
       "    <tr style=\"text-align: right;\">\n",
       "      <th></th>\n",
       "      <th>sentence</th>\n",
       "      <th>score</th>\n",
       "      <th>category</th>\n",
       "      <th>id_no</th>\n",
       "    </tr>\n",
       "  </thead>\n",
       "  <tbody>\n",
       "    <tr>\n",
       "      <th>0</th>\n",
       "      <td>False</td>\n",
       "      <td>False</td>\n",
       "      <td>False</td>\n",
       "      <td>False</td>\n",
       "    </tr>\n",
       "    <tr>\n",
       "      <th>1</th>\n",
       "      <td>False</td>\n",
       "      <td>False</td>\n",
       "      <td>False</td>\n",
       "      <td>False</td>\n",
       "    </tr>\n",
       "    <tr>\n",
       "      <th>2</th>\n",
       "      <td>False</td>\n",
       "      <td>False</td>\n",
       "      <td>False</td>\n",
       "      <td>False</td>\n",
       "    </tr>\n",
       "    <tr>\n",
       "      <th>3</th>\n",
       "      <td>False</td>\n",
       "      <td>False</td>\n",
       "      <td>False</td>\n",
       "      <td>False</td>\n",
       "    </tr>\n",
       "    <tr>\n",
       "      <th>4</th>\n",
       "      <td>False</td>\n",
       "      <td>False</td>\n",
       "      <td>False</td>\n",
       "      <td>False</td>\n",
       "    </tr>\n",
       "    <tr>\n",
       "      <th>...</th>\n",
       "      <td>...</td>\n",
       "      <td>...</td>\n",
       "      <td>...</td>\n",
       "      <td>...</td>\n",
       "    </tr>\n",
       "    <tr>\n",
       "      <th>2743</th>\n",
       "      <td>False</td>\n",
       "      <td>False</td>\n",
       "      <td>False</td>\n",
       "      <td>False</td>\n",
       "    </tr>\n",
       "    <tr>\n",
       "      <th>2744</th>\n",
       "      <td>False</td>\n",
       "      <td>False</td>\n",
       "      <td>False</td>\n",
       "      <td>False</td>\n",
       "    </tr>\n",
       "    <tr>\n",
       "      <th>2745</th>\n",
       "      <td>False</td>\n",
       "      <td>False</td>\n",
       "      <td>False</td>\n",
       "      <td>False</td>\n",
       "    </tr>\n",
       "    <tr>\n",
       "      <th>2746</th>\n",
       "      <td>False</td>\n",
       "      <td>False</td>\n",
       "      <td>False</td>\n",
       "      <td>False</td>\n",
       "    </tr>\n",
       "    <tr>\n",
       "      <th>2747</th>\n",
       "      <td>False</td>\n",
       "      <td>False</td>\n",
       "      <td>False</td>\n",
       "      <td>False</td>\n",
       "    </tr>\n",
       "  </tbody>\n",
       "</table>\n",
       "<p>2748 rows × 4 columns</p>\n",
       "</div>"
      ],
      "text/plain": [
       "      sentence  score  category  id_no\n",
       "0        False  False     False  False\n",
       "1        False  False     False  False\n",
       "2        False  False     False  False\n",
       "3        False  False     False  False\n",
       "4        False  False     False  False\n",
       "...        ...    ...       ...    ...\n",
       "2743     False  False     False  False\n",
       "2744     False  False     False  False\n",
       "2745     False  False     False  False\n",
       "2746     False  False     False  False\n",
       "2747     False  False     False  False\n",
       "\n",
       "[2748 rows x 4 columns]"
      ]
     },
     "execution_count": 27,
     "metadata": {},
     "output_type": "execute_result"
    }
   ],
   "source": [
    "df_all.isnull()"
   ]
  },
  {
   "cell_type": "code",
   "execution_count": 28,
   "metadata": {},
   "outputs": [
    {
     "data": {
      "text/html": [
       "<div>\n",
       "<style scoped>\n",
       "    .dataframe tbody tr th:only-of-type {\n",
       "        vertical-align: middle;\n",
       "    }\n",
       "\n",
       "    .dataframe tbody tr th {\n",
       "        vertical-align: top;\n",
       "    }\n",
       "\n",
       "    .dataframe thead th {\n",
       "        text-align: right;\n",
       "    }\n",
       "</style>\n",
       "<table border=\"1\" class=\"dataframe\">\n",
       "  <thead>\n",
       "    <tr style=\"text-align: right;\">\n",
       "      <th></th>\n",
       "      <th>sentence</th>\n",
       "      <th>score</th>\n",
       "      <th>category</th>\n",
       "      <th>id_no</th>\n",
       "    </tr>\n",
       "  </thead>\n",
       "  <tbody>\n",
       "    <tr>\n",
       "      <th>0</th>\n",
       "      <td>The amoung of missing records is:</td>\n",
       "      <td>The amoung of missing records is:</td>\n",
       "      <td>The amoung of missing records is:</td>\n",
       "      <td>The amoung of missing records is:</td>\n",
       "    </tr>\n",
       "    <tr>\n",
       "      <th>1</th>\n",
       "      <td>0</td>\n",
       "      <td>0</td>\n",
       "      <td>0</td>\n",
       "      <td>0</td>\n",
       "    </tr>\n",
       "  </tbody>\n",
       "</table>\n",
       "</div>"
      ],
      "text/plain": [
       "                             sentence                               score  \\\n",
       "0  The amoung of missing records is:   The amoung of missing records is:    \n",
       "1                                   0                                   0   \n",
       "\n",
       "                             category                               id_no  \n",
       "0  The amoung of missing records is:   The amoung of missing records is:   \n",
       "1                                   0                                   0  "
      ]
     },
     "execution_count": 28,
     "metadata": {},
     "output_type": "execute_result"
    }
   ],
   "source": [
    "df_all.isnull().apply(lambda x: dmh.check_missing_values(x))"
   ]
  },
  {
   "cell_type": "code",
   "execution_count": 29,
   "metadata": {},
   "outputs": [],
   "source": [
    "dummy_duplicate_dict = [{\n",
    "                             'sentence': 'dummy record',\n",
    "                             'score': 0,\n",
    "                             'id_no': 1, \n",
    "                             'category': \"dummy category\"\n",
    "                        },\n",
    "                        {\n",
    "                             'sentence': 'dummy record',\n",
    "                             'score': 0,\n",
    "                             'id_no': 1, \n",
    "                             'category': \"dummy category\"\n",
    "                        },\n",
    "                        {\n",
    "                             'sentence': 'dummy record',\n",
    "                             'score': 0,\n",
    "                             'id_no': 1, \n",
    "                        }]\n",
    "df_dummy = pd.concat([df_all, pd.DataFrame(dummy_duplicate_dict)], ignore_index=True)"
   ]
  },
  {
   "cell_type": "code",
   "execution_count": 30,
   "metadata": {},
   "outputs": [
    {
     "data": {
      "text/html": [
       "<div>\n",
       "<style scoped>\n",
       "    .dataframe tbody tr th:only-of-type {\n",
       "        vertical-align: middle;\n",
       "    }\n",
       "\n",
       "    .dataframe tbody tr th {\n",
       "        vertical-align: top;\n",
       "    }\n",
       "\n",
       "    .dataframe thead th {\n",
       "        text-align: right;\n",
       "    }\n",
       "</style>\n",
       "<table border=\"1\" class=\"dataframe\">\n",
       "  <thead>\n",
       "    <tr style=\"text-align: right;\">\n",
       "      <th></th>\n",
       "      <th>sentence</th>\n",
       "      <th>score</th>\n",
       "      <th>category</th>\n",
       "      <th>id_no</th>\n",
       "    </tr>\n",
       "  </thead>\n",
       "  <tbody>\n",
       "    <tr>\n",
       "      <th>0</th>\n",
       "      <td>The amoung of missing records is:</td>\n",
       "      <td>The amoung of missing records is:</td>\n",
       "      <td>The amoung of missing records is:</td>\n",
       "      <td>The amoung of missing records is:</td>\n",
       "    </tr>\n",
       "    <tr>\n",
       "      <th>1</th>\n",
       "      <td>0</td>\n",
       "      <td>0</td>\n",
       "      <td>1</td>\n",
       "      <td>0</td>\n",
       "    </tr>\n",
       "  </tbody>\n",
       "</table>\n",
       "</div>"
      ],
      "text/plain": [
       "                             sentence                               score  \\\n",
       "0  The amoung of missing records is:   The amoung of missing records is:    \n",
       "1                                   0                                   0   \n",
       "\n",
       "                             category                               id_no  \n",
       "0  The amoung of missing records is:   The amoung of missing records is:   \n",
       "1                                   1                                   0  "
      ]
     },
     "execution_count": 30,
     "metadata": {},
     "output_type": "execute_result"
    }
   ],
   "source": [
    "df_dummy.isnull().apply(lambda x: dmh.check_missing_values(x))"
   ]
  },
  {
   "cell_type": "code",
   "execution_count": 31,
   "metadata": {},
   "outputs": [],
   "source": [
    "df_dupli = df_dummy[df_dummy.duplicated('sentence', keep = False)]"
   ]
  },
  {
   "cell_type": "code",
   "execution_count": 32,
   "metadata": {},
   "outputs": [
    {
     "name": "stdout",
     "output_type": "stream",
     "text": [
      "                                               sentence  score  \\\n",
      "194                    Definitely worth checking out.        1   \n",
      "207                              The food was terrible.      0   \n",
      "228   If you like a loud buzzing to override all you...      0   \n",
      "314                                        Great phone.      1   \n",
      "355                                             10/10        1   \n",
      "393                                  Not recommended.        0   \n",
      "415                                        Works great.      1   \n",
      "496                                  I love this place.      1   \n",
      "590                               This is a great deal.      1   \n",
      "605                                       Does not fit.      0   \n",
      "644                                        Great Phone.      1   \n",
      "783                                    I won't be back.      0   \n",
      "861                                        Works great.      1   \n",
      "974                                       Works great!.      1   \n",
      "1071                   Excellent product for the price.      1   \n",
      "1251                                       Great Phone.      1   \n",
      "1264  If you like a loud buzzing to override all you...      0   \n",
      "1265                                            10/10        1   \n",
      "1338                                       Great phone.      1   \n",
      "1345                                 Not recommended.        0   \n",
      "1494                                      Great phone!.      1   \n",
      "1541                             The food was terrible.      0   \n",
      "1546                  I would not recommend this place.      0   \n",
      "1602                  I would not recommend this place.      0   \n",
      "1605                                      Great phone!.      1   \n",
      "1673                                   I won't be back.      0   \n",
      "1941                            Don't buy this product.      0   \n",
      "2070                   Definitely worth checking out.        1   \n",
      "2097                                 I love this place.      1   \n",
      "2184                              This is a great deal.      1   \n",
      "2243                                      Works great!.      1   \n",
      "2257                                      Does not fit.      0   \n",
      "2391                   Excellent product for the price.      1   \n",
      "2597                            Don't buy this product.      0   \n",
      "2748                                       dummy record      0   \n",
      "2749                                       dummy record      0   \n",
      "2750                                       dummy record      0   \n",
      "\n",
      "            category  id_no  \n",
      "194             imdb      1  \n",
      "207             yelp      0  \n",
      "228           amazon      2  \n",
      "314           amazon      2  \n",
      "355             imdb      1  \n",
      "393             imdb      1  \n",
      "415           amazon      2  \n",
      "496             yelp      0  \n",
      "590           amazon      2  \n",
      "605           amazon      2  \n",
      "644           amazon      2  \n",
      "783             yelp      0  \n",
      "861           amazon      2  \n",
      "974           amazon      2  \n",
      "1071          amazon      2  \n",
      "1251          amazon      2  \n",
      "1264          amazon      2  \n",
      "1265            imdb      1  \n",
      "1338          amazon      2  \n",
      "1345            imdb      1  \n",
      "1494          amazon      2  \n",
      "1541            yelp      0  \n",
      "1546            yelp      0  \n",
      "1602            yelp      0  \n",
      "1605          amazon      2  \n",
      "1673            yelp      0  \n",
      "1941          amazon      2  \n",
      "2070            imdb      1  \n",
      "2097            yelp      0  \n",
      "2184          amazon      2  \n",
      "2243          amazon      2  \n",
      "2257          amazon      2  \n",
      "2391          amazon      2  \n",
      "2597          amazon      2  \n",
      "2748  dummy category      1  \n",
      "2749  dummy category      1  \n",
      "2750             NaN      1  \n"
     ]
    }
   ],
   "source": [
    "print(df_dupli)\n",
    "#from here we noticed that there's actually many duplicated review\n",
    "# so for our original dataframe we will remove all the duplicates"
   ]
  },
  {
   "cell_type": "code",
   "execution_count": 33,
   "metadata": {},
   "outputs": [],
   "source": [
    "df_all.drop_duplicates(keep='first', inplace=True)"
   ]
  },
  {
   "cell_type": "code",
   "execution_count": 34,
   "metadata": {},
   "outputs": [
    {
     "data": {
      "text/plain": [
       "2731"
      ]
     },
     "execution_count": 34,
     "metadata": {},
     "output_type": "execute_result"
    }
   ],
   "source": [
    "len(df_all)"
   ]
  },
  {
   "cell_type": "code",
   "execution_count": 35,
   "metadata": {},
   "outputs": [],
   "source": [
    "df_sample = df_all.sample(n=1000)"
   ]
  },
  {
   "cell_type": "code",
   "execution_count": 36,
   "metadata": {},
   "outputs": [
    {
     "name": "stdout",
     "output_type": "stream",
     "text": [
      "yelp      377\n",
      "amazon    350\n",
      "imdb      273\n",
      "Name: category, dtype: int64\n"
     ]
    },
    {
     "data": {
      "text/plain": [
       "<AxesSubplot:title={'center':'Category distribution'}>"
      ]
     },
     "execution_count": 36,
     "metadata": {},
     "output_type": "execute_result"
    },
    {
     "data": {
      "image/png": "[encoded data removed]",
      "text/plain": [
       "<Figure size 576x216 with 1 Axes>"
      ]
     },
     "metadata": {
      "needs_background": "light"
     },
     "output_type": "display_data"
    }
   ],
   "source": [
    "print(df_sample.category.value_counts().reindex_like(df_all.category.value_counts()))\n",
    "\n",
    "# plot barchart for X\n",
    "df_sample.category.value_counts().plot(kind = 'bar',\n",
    "                                    title = 'Category distribution',\n",
    "                                    ylim = [0, max(df_sample.category.value_counts())+100],        \n",
    "                                    rot = 0, fontsize = 11, figsize = (8,3))"
   ]
  },
  {
   "cell_type": "code",
   "execution_count": 37,
   "metadata": {},
   "outputs": [
    {
     "name": "stdout",
     "output_type": "stream",
     "text": [
      "yelp      996\n",
      "amazon    990\n",
      "imdb      745\n",
      "Name: category, dtype: int64\n"
     ]
    },
    {
     "data": {
      "text/plain": [
       "<AxesSubplot:title={'center':'Category distribution'}>"
      ]
     },
     "execution_count": 37,
     "metadata": {},
     "output_type": "execute_result"
    },
    {
     "data": {
      "image/png": "[encoded data removed]",
      "text/plain": [
       "<Figure size 576x216 with 1 Axes>"
      ]
     },
     "metadata": {
      "needs_background": "light"
     },
     "output_type": "display_data"
    }
   ],
   "source": [
    "print(df_all.category.value_counts())\n",
    "\n",
    "# plot barchart for X\n",
    "df_all.category.value_counts().plot(kind = 'bar',\n",
    "                                    title = 'Category distribution',\n",
    "                                    ylim = [0, max(df_all.category.value_counts())+100],        \n",
    "                                    rot = 0, fontsize = 11, figsize = (8,3))"
   ]
  },
  {
   "cell_type": "code",
   "execution_count": 38,
   "metadata": {},
   "outputs": [
    {
     "data": {
      "image/png": "[encoded data removed]",
      "text/plain": [
       "<Figure size 720x576 with 1 Axes>"
      ]
     },
     "metadata": {
      "needs_background": "light"
     },
     "output_type": "display_data"
    }
   ],
   "source": [
    "bar_sample_all = pd.DataFrame({'df_all' : df_all.category.value_counts(),\n",
    "                               'df_sample' : df_sample.category.value_counts().reindex_like(df_all.category.value_counts())}, \n",
    "                              index = df_all.category.value_counts().index.tolist())\n",
    "\n",
    "df_plot = bar_sample_all.plot(kind = 'bar',\n",
    "                                    title = 'Category distribution',\n",
    "                                    ylim = [0, max(df_all.category.value_counts())+100],        \n",
    "                                    rot = 0, fontsize = 11, figsize = (10,8))"
   ]
  },
  {
   "cell_type": "code",
   "execution_count": 39,
   "metadata": {},
   "outputs": [
    {
     "name": "stdout",
     "output_type": "stream",
     "text": [
      "                                               sentence  score category  \\\n",
      "0     It makes very strange ticking noises before it...      0   amazon   \n",
      "1                                 It's A PIECE OF CRAP!      0   amazon   \n",
      "2     I guess maybe we went on an off night but it w...      0     yelp   \n",
      "3     So don't go there if you are looking for good ...      0     yelp   \n",
      "4                     What a great double cheeseburger!      1     yelp   \n",
      "...                                                 ...    ...      ...   \n",
      "2743                       After two I felt disgusting.      0     yelp   \n",
      "2744                                        Works well.      1   amazon   \n",
      "2745  i got this phone around the end of may and i'm...      0   amazon   \n",
      "2746  As a courtroom drama, it's compelling, as an i...      1     imdb   \n",
      "2747       Phone is sturdy as all nokia bar phones are.      1   amazon   \n",
      "\n",
      "      id_no                                           unigrams  \n",
      "0         2  [It, makes, very, strange, ticking, noises, be...  \n",
      "1         2                    [It, 's, A, PIECE, OF, CRAP, !]  \n",
      "2         0  [I, guess, maybe, we, went, on, an, off, night...  \n",
      "3         0  [So, do, n't, go, there, if, you, are, looking...  \n",
      "4         0          [What, a, great, double, cheeseburger, !]  \n",
      "...     ...                                                ...  \n",
      "2743      0               [After, two, I, felt, disgusting, .]  \n",
      "2744      2                                   [Works, well, .]  \n",
      "2745      2  [i, got, this, phone, around, the, end, of, ma...  \n",
      "2746      1  [As, a, courtroom, drama, ,, it, 's, compellin...  \n",
      "2747      2  [Phone, is, sturdy, as, all, nokia, bar, phone...  \n",
      "\n",
      "[2731 rows x 5 columns]\n"
     ]
    }
   ],
   "source": [
    "import nltk\n",
    "import helpers.data_mining_helpers as dmh\n",
    "df_all['unigrams'] = df_all['sentence'].apply(lambda x: dmh.tokenize_text(x))\n",
    "print(df_all)"
   ]
  },
  {
   "cell_type": "code",
   "execution_count": 4,
   "metadata": {},
   "outputs": [
    {
     "data": {
      "text/plain": [
       "array(['10', 'acting', 'amazing', 'bad', 'battery', 'best', 'better',\n",
       "       'characters', 'did', 'didn'], dtype=object)"
      ]
     },
     "execution_count": 4,
     "metadata": {},
     "output_type": "execute_result"
    }
   ],
   "source": [
    "from sklearn.feature_extraction.text import CountVectorizer\n",
    "\n",
    "count_vect = CountVectorizer(min_df = 2,max_features = 50, stop_words = 'english')\n",
    "df_counts = count_vect.fit_transform(df_all.sentence) #learn the vocabulary and return document-term matrix\n",
    "count_vect.get_feature_names_out()[0:10]"
   ]
  },
  {
   "cell_type": "code",
   "execution_count": 41,
   "metadata": {},
   "outputs": [
    {
     "data": {
      "text/plain": [
       "array([[0, 0, 0, 0, 0, 0, 0, 0, 0, 0, 0, 0, 0, 0, 0, 0, 0, 0, 0, 0, 0, 0,\n",
       "        0, 0, 0, 0, 0, 0, 0, 0, 0, 0, 0, 0, 0, 0, 0, 0, 0, 0, 0, 0, 0, 0,\n",
       "        0, 0, 0, 0, 0, 0],\n",
       "       [0, 0, 0, 0, 0, 0, 0, 0, 0, 0, 0, 0, 0, 0, 0, 0, 0, 0, 0, 0, 0, 0,\n",
       "        0, 0, 0, 0, 0, 0, 0, 0, 0, 0, 0, 0, 0, 0, 0, 0, 0, 0, 0, 0, 0, 0,\n",
       "        0, 0, 0, 0, 0, 0],\n",
       "       [0, 0, 0, 0, 0, 0, 0, 0, 0, 0, 0, 0, 0, 0, 0, 0, 0, 0, 0, 0, 0, 0,\n",
       "        0, 0, 0, 0, 0, 0, 0, 0, 0, 0, 0, 0, 0, 0, 0, 0, 0, 0, 0, 0, 0, 0,\n",
       "        0, 0, 0, 0, 0, 0],\n",
       "       [0, 0, 0, 0, 0, 0, 0, 0, 0, 0, 0, 0, 1, 0, 0, 0, 1, 0, 1, 0, 0, 0,\n",
       "        0, 0, 0, 0, 0, 0, 0, 0, 0, 0, 0, 0, 0, 0, 0, 0, 0, 0, 0, 0, 0, 0,\n",
       "        0, 0, 0, 0, 0, 0],\n",
       "       [0, 0, 0, 0, 0, 0, 0, 0, 0, 0, 0, 0, 0, 0, 0, 0, 0, 0, 0, 0, 1, 0,\n",
       "        0, 0, 0, 0, 0, 0, 0, 0, 0, 0, 0, 0, 0, 0, 0, 0, 0, 0, 0, 0, 0, 0,\n",
       "        0, 0, 0, 0, 0, 0]], dtype=int64)"
      ]
     },
     "execution_count": 41,
     "metadata": {},
     "output_type": "execute_result"
    }
   ],
   "source": [
    "df_counts[0:5, 0:100].toarray()"
   ]
  },
  {
   "cell_type": "code",
   "execution_count": 42,
   "metadata": {},
   "outputs": [
    {
     "data": {
      "image/png": "[encoded data removed]",
      "text/plain": [
       "<Figure size 648x504 with 2 Axes>"
      ]
     },
     "metadata": {
      "needs_background": "light"
     },
     "output_type": "display_data"
    }
   ],
   "source": [
    "plot_x = [\"term_\"+str(i) for i in count_vect.get_feature_names_out()[0:20]]\n",
    "plot_y = [\"doc_\"+ str(i) for i in list(df_all.index)[0:20]]\n",
    "plot_z = df_counts[0:20, 0:20].toarray()\n",
    "\n",
    "import seaborn as sns\n",
    "\n",
    "df_todraw = pd.DataFrame(plot_z, columns = plot_x, index = plot_y)\n",
    "plt.subplots(figsize=(9, 7))\n",
    "ax = sns.heatmap(df_todraw,\n",
    "                 cmap=\"PuRd\",\n",
    "                 vmin=0, vmax=1, annot=True)"
   ]
  },
  {
   "cell_type": "code",
   "execution_count": 43,
   "metadata": {},
   "outputs": [
    {
     "name": "stdout",
     "output_type": "stream",
     "text": [
      "     amazing  atmosphere  awesome  bacon  best  bread  came  chicken  come  \\\n",
      "0          0           0        0      0     0      0     0        0     0   \n",
      "1          0           0        0      0     0      0     0        0     0   \n",
      "2          0           0        0      0     0      0     0        0     0   \n",
      "3          0           0        0      0     0      0     0        0     0   \n",
      "4          0           0        0      0     0      0     0        0     0   \n",
      "..       ...         ...      ...    ...   ...    ...   ...      ...   ...   \n",
      "295        0           0        0      0     0      0     0        0     0   \n",
      "296        0           0        0      1     0      0     0        0     0   \n",
      "297        0           0        0      0     0      0     0        0     0   \n",
      "298        0           0        0      0     0      0     0        0     0   \n",
      "299        0           0        0      0     0      0     0        0     0   \n",
      "\n",
      "     cooked  ...  service  staff  stars  super  thing  time  vegas  waitress  \\\n",
      "0         0  ...        0      0      0      0      0     0      0         0   \n",
      "1         0  ...        0      0      0      0      0     0      0         0   \n",
      "2         0  ...        0      0      0      0      0     0      0         0   \n",
      "3         0  ...        0      0      0      0      0     0      0         0   \n",
      "4         0  ...        0      0      0      0      0     0      0         0   \n",
      "..      ...  ...      ...    ...    ...    ...    ...   ...    ...       ...   \n",
      "295       0  ...        0      1      0      1      0     0      0         0   \n",
      "296       0  ...        0      0      0      0      0     0      0         0   \n",
      "297       0  ...        0      0      0      0      0     0      0         0   \n",
      "298       0  ...        0      0      0      0      0     0      0         0   \n",
      "299       0  ...        0      0      0      0      0     0      0         1   \n",
      "\n",
      "     want  went  \n",
      "0       0     0  \n",
      "1       0     0  \n",
      "2       0     0  \n",
      "3       0     0  \n",
      "4       0     0  \n",
      "..    ...   ...  \n",
      "295     0     0  \n",
      "296     0     0  \n",
      "297     0     0  \n",
      "298     0     0  \n",
      "299     0     0  \n",
      "\n",
      "[300 rows x 50 columns]\n"
     ]
    },
    {
     "data": {
      "image/png": "[encoded data removed]",
      "text/plain": [
       "<Figure size 648x504 with 2 Axes>"
      ]
     },
     "metadata": {
      "needs_background": "light"
     },
     "output_type": "display_data"
    }
   ],
   "source": [
    "df_sample_yelp = df_all[df_all['category']== 'yelp']\n",
    "df_sample_good_review_yelp = df_sample_yelp[df_sample_yelp['score']== 1].sample(n= 300)\n",
    "count_vect_good_review_yelp = CountVectorizer(max_features = 50, token_pattern=r'(?<![^\\s_])[^\\W_]{2,}(?![^\\s_])', stop_words = 'english')\n",
    "df_counts_good_review_yelp = count_vect_good_review_yelp.fit_transform(df_sample_good_review_yelp.sentence)\n",
    "\n",
    "\n",
    "plot_x_sc = [\"term_\"+str(i) for i in count_vect_good_review_yelp.get_feature_names_out()[0:30]]\n",
    "plot_y_sc = [\"doc_\"+ str(i) for i in list(df_sample_good_review_yelp.index)[0:30]]\n",
    "plot_z_sc = df_counts_good_review_yelp[0:30, 0:30].toarray()\n",
    "\n",
    "df_todraw = pd.DataFrame(plot_z_sc, columns = plot_x_sc, index = plot_y_sc)\n",
    "plt.subplots(figsize=(9, 7))\n",
    "ax = sns.heatmap(df_todraw,\n",
    "                 cmap=\"PuRd\",\n",
    "                 vmin=0, vmax=1, annot=True)\n",
    "\n",
    "count_array = df_counts_good_review_yelp.toarray()\n",
    "df = pd.DataFrame(data=count_array,columns = count_vect_good_review_yelp.get_feature_names_out())\n",
    "print(df)"
   ]
  },
  {
   "cell_type": "code",
   "execution_count": 44,
   "metadata": {},
   "outputs": [
    {
     "data": {
      "image/png": "[encoded data removed]",
      "text/plain": [
       "<Figure size 432x288 with 1 Axes>"
      ]
     },
     "metadata": {
      "needs_background": "light"
     },
     "output_type": "display_data"
    }
   ],
   "source": [
    "from sklearn.decomposition import PCA\n",
    "\n",
    "from mpl_toolkits.mplot3d import Axes3D\n",
    "col = ['coral', 'blue', 'black', 'orange']\n",
    "fig = plt.figure()\n",
    "ax = fig.add_subplot(projection = \"3d\")\n",
    "X_reduced_3 = PCA(n_components = 3).fit_transform(df_counts.toarray())\n",
    "\n",
    "for c, category in zip(col, categories):\n",
    "    xs = X_reduced_3[df_all['category'] == category].T[0]\n",
    "    ys = X_reduced_3[df_all['category'] == category].T[1]\n",
    "    zs = X_reduced_3[df_all['category'] == category].T[2]\n",
    "    \n",
    "    ax.scatter(xs, ys, zs, c = c, marker='o')\n",
    "    \n",
    "ax.set_xlabel('x')\n",
    "ax.set_ylabel('y')\n",
    "ax.set_zlabel('z')\n",
    "plt.show()"
   ]
  },
  {
   "cell_type": "code",
   "execution_count": 45,
   "metadata": {},
   "outputs": [],
   "source": [
    "term_frequencies = []\n",
    "for j in range(0,df_counts.shape[1]):\n",
    "    term_frequencies.append(sum(df_counts[:,j].toarray()))"
   ]
  },
  {
   "cell_type": "code",
   "execution_count": 46,
   "metadata": {},
   "outputs": [
    {
     "name": "stdout",
     "output_type": "stream",
     "text": [
      "[array([36], dtype=int64), array([43], dtype=int64), array([34], dtype=int64), array([103], dtype=int64), array([46], dtype=int64), array([78], dtype=int64), array([53], dtype=int64), array([35], dtype=int64), array([49], dtype=int64), array([42], dtype=int64), array([35], dtype=int64), array([36], dtype=int64), array([79], dtype=int64), array([35], dtype=int64), array([52], dtype=int64), array([163], dtype=int64), array([125], dtype=int64), array([34], dtype=int64), array([230], dtype=int64), array([39], dtype=int64), array([204], dtype=int64), array([48], dtype=int64), array([119], dtype=int64), array([124], dtype=int64), array([35], dtype=int64), array([60], dtype=int64), array([42], dtype=int64), array([182], dtype=int64), array([53], dtype=int64), array([164], dtype=int64), array([112], dtype=int64), array([43], dtype=int64), array([33], dtype=int64), array([54], dtype=int64), array([66], dtype=int64), array([103], dtype=int64), array([49], dtype=int64), array([34], dtype=int64), array([36], dtype=int64), array([108], dtype=int64), array([50], dtype=int64), array([34], dtype=int64), array([47], dtype=int64), array([112], dtype=int64), array([49], dtype=int64), array([64], dtype=int64), array([45], dtype=int64), array([56], dtype=int64), array([51], dtype=int64), array([40], dtype=int64)]\n"
     ]
    }
   ],
   "source": [
    "print(term_frequencies)"
   ]
  },
  {
   "cell_type": "code",
   "execution_count": 47,
   "metadata": {},
   "outputs": [
    {
     "data": {
      "image/png": "[encoded data removed]",
      "text/plain": [
       "<Figure size 7200x720 with 1 Axes>"
      ]
     },
     "metadata": {
      "needs_background": "light"
     },
     "output_type": "display_data"
    }
   ],
   "source": [
    "term_frequencies = np.asarray(df_counts.sum(axis=0))[0]\n",
    "\n",
    "plt.subplots(figsize=(100, 10))\n",
    "g = sns.barplot(x=count_vect.get_feature_names_out()[:], \n",
    "            y=term_frequencies[:])\n",
    "g.set_xticklabels(count_vect.get_feature_names_out()[:], rotation = 90);"
   ]
  },
  {
   "cell_type": "code",
   "execution_count": 22,
   "metadata": {},
   "outputs": [
    {
     "name": "stdout",
     "output_type": "stream",
     "text": [
      "4\n"
     ]
    },
    {
     "data": {
      "image/png": "[encoded data removed]",
      "text/plain": [
       "<Figure size 720x720 with 1 Axes>"
      ]
     },
     "metadata": {
      "needs_background": "light"
     },
     "output_type": "display_data"
    }
   ],
   "source": [
    "import seaborn as sns\n",
    "import matplotlib.pyplot as plt\n",
    "%matplotlib inline\n",
    "df_sample_bad_review = df_all[df_all['score']== 0].sample(n= 200)\n",
    "count_vect_bad_review = CountVectorizer(min_df = 1,max_features = 30, token_pattern=r'(?<![^\\s_])[^\\W_]{2,}(?![^\\s_])', stop_words = 'english')\n",
    "df_counts_bad_review = count_vect_bad_review.fit_transform(df_sample_bad_review.sentence)\n",
    "\n",
    "term_frequencies = []\n",
    "for j in range(0,df_counts_bad_review.shape[1]):\n",
    "    term_frequencies.append(sum(df_counts_bad_review[:,j].toarray()))\n",
    "print(term_frequencies[3][0])\n",
    "\n",
    "term_frequencies = np.asarray(df_counts_bad_review.sum(axis=0))[0]\n",
    "\n",
    "\n",
    "plt.subplots(figsize=(10, 10))\n",
    "g = sns.barplot(x=count_vect_bad_review.get_feature_names_out()[:], \n",
    "            y=term_frequencies[:])\n",
    "g.set_xticklabels(count_vect_bad_review.get_feature_names_out()[:], rotation = 90);"
   ]
  },
  {
   "cell_type": "code",
   "execution_count": 28,
   "metadata": {
    "scrolled": false
   },
   "outputs": [
    {
     "data": {
      "image/png": "[encoded data removed]",
      "text/plain": [
       "<Figure size 720x720 with 1 Axes>"
      ]
     },
     "metadata": {
      "needs_background": "light"
     },
     "output_type": "display_data"
    }
   ],
   "source": [
    "import seaborn as sns\n",
    "import math\n",
    "df_sample_good_review = df_all[df_all['score']== 1].sample(n= 500)\n",
    "count_vect_good_review = CountVectorizer(max_features = 50, token_pattern=r'(?<![^\\s_])[^\\W_]{2,}(?![^\\s_])', stop_words = 'english')\n",
    "df_counts_good_review = count_vect_good_review.fit_transform(df_sample_good_review.sentence)\n",
    "\n",
    "term_frequencies = []\n",
    "for j in range(0,df_counts_good_review.shape[1]):\n",
    "    term_frequencies.append(sum(df_counts_good_review[:,j].toarray()))\n",
    "\n",
    "name_out = count_vect_good_review.get_feature_names_out()\n",
    "name_out_ex = np.asarray(name_out)\n",
    "\n",
    "term_frequencies = np.asarray(df_counts_good_review.sum(axis=0))[0]\n",
    "\n",
    "x = dict(sorted(zip(term_frequencies, name_out_ex), reverse = True))\n",
    "key_1 = []\n",
    "value_1 = []\n",
    "for key, value in x.items():\n",
    "    key_1.append(int(key))\n",
    "    value_1.append(value)\n",
    "\n",
    "count_array = df_counts_good_review.toarray()\n",
    "plt.subplots(figsize=(10, 10))\n",
    "df = pd.DataFrame({\"y\": key_1,\n",
    "                   \"x\": value_1})\n",
    "b = sns.barplot(x= 'x',\n",
    "            y= 'y', data=df)\n",
    "b.set_xticklabels(value_1, rotation = 90);"
   ]
  },
  {
   "cell_type": "code",
   "execution_count": 50,
   "metadata": {},
   "outputs": [],
   "source": [
    "from sklearn import preprocessing, metrics, decomposition, pipeline, dummy\n",
    "mlb = preprocessing.LabelBinarizer()"
   ]
  },
  {
   "cell_type": "code",
   "execution_count": 51,
   "metadata": {},
   "outputs": [
    {
     "data": {
      "text/html": [
       "<div>\n",
       "<style scoped>\n",
       "    .dataframe tbody tr th:only-of-type {\n",
       "        vertical-align: middle;\n",
       "    }\n",
       "\n",
       "    .dataframe tbody tr th {\n",
       "        vertical-align: top;\n",
       "    }\n",
       "\n",
       "    .dataframe thead th {\n",
       "        text-align: right;\n",
       "    }\n",
       "</style>\n",
       "<table border=\"1\" class=\"dataframe\">\n",
       "  <thead>\n",
       "    <tr style=\"text-align: right;\">\n",
       "      <th></th>\n",
       "      <th>sentence</th>\n",
       "      <th>score</th>\n",
       "      <th>category</th>\n",
       "      <th>id_no</th>\n",
       "      <th>unigrams</th>\n",
       "      <th>bin_category</th>\n",
       "    </tr>\n",
       "  </thead>\n",
       "  <tbody>\n",
       "    <tr>\n",
       "      <th>0</th>\n",
       "      <td>It makes very strange ticking noises before it...</td>\n",
       "      <td>0</td>\n",
       "      <td>amazon</td>\n",
       "      <td>2</td>\n",
       "      <td>[It, makes, very, strange, ticking, noises, be...</td>\n",
       "      <td>[1, 0, 0]</td>\n",
       "    </tr>\n",
       "    <tr>\n",
       "      <th>1</th>\n",
       "      <td>It's A PIECE OF CRAP!</td>\n",
       "      <td>0</td>\n",
       "      <td>amazon</td>\n",
       "      <td>2</td>\n",
       "      <td>[It, 's, A, PIECE, OF, CRAP, !]</td>\n",
       "      <td>[1, 0, 0]</td>\n",
       "    </tr>\n",
       "    <tr>\n",
       "      <th>2</th>\n",
       "      <td>I guess maybe we went on an off night but it w...</td>\n",
       "      <td>0</td>\n",
       "      <td>yelp</td>\n",
       "      <td>0</td>\n",
       "      <td>[I, guess, maybe, we, went, on, an, off, night...</td>\n",
       "      <td>[0, 0, 1]</td>\n",
       "    </tr>\n",
       "    <tr>\n",
       "      <th>3</th>\n",
       "      <td>So don't go there if you are looking for good ...</td>\n",
       "      <td>0</td>\n",
       "      <td>yelp</td>\n",
       "      <td>0</td>\n",
       "      <td>[So, do, n't, go, there, if, you, are, looking...</td>\n",
       "      <td>[0, 0, 1]</td>\n",
       "    </tr>\n",
       "    <tr>\n",
       "      <th>4</th>\n",
       "      <td>What a great double cheeseburger!</td>\n",
       "      <td>1</td>\n",
       "      <td>yelp</td>\n",
       "      <td>0</td>\n",
       "      <td>[What, a, great, double, cheeseburger, !]</td>\n",
       "      <td>[0, 0, 1]</td>\n",
       "    </tr>\n",
       "    <tr>\n",
       "      <th>5</th>\n",
       "      <td>Some highlights : Great quality nigiri here!</td>\n",
       "      <td>1</td>\n",
       "      <td>yelp</td>\n",
       "      <td>0</td>\n",
       "      <td>[Some, highlights, :, Great, quality, nigiri, ...</td>\n",
       "      <td>[0, 0, 1]</td>\n",
       "    </tr>\n",
       "    <tr>\n",
       "      <th>6</th>\n",
       "      <td>Wow... Loved this place.</td>\n",
       "      <td>1</td>\n",
       "      <td>yelp</td>\n",
       "      <td>0</td>\n",
       "      <td>[Wow, ..., Loved, this, place, .]</td>\n",
       "      <td>[0, 0, 1]</td>\n",
       "    </tr>\n",
       "    <tr>\n",
       "      <th>7</th>\n",
       "      <td>She ordered a toasted English muffin that came...</td>\n",
       "      <td>0</td>\n",
       "      <td>yelp</td>\n",
       "      <td>0</td>\n",
       "      <td>[She, ordered, a, toasted, English, muffin, th...</td>\n",
       "      <td>[0, 0, 1]</td>\n",
       "    </tr>\n",
       "    <tr>\n",
       "      <th>8</th>\n",
       "      <td>Would not recommend to others.</td>\n",
       "      <td>0</td>\n",
       "      <td>yelp</td>\n",
       "      <td>0</td>\n",
       "      <td>[Would, not, recommend, to, others, .]</td>\n",
       "      <td>[0, 0, 1]</td>\n",
       "    </tr>\n",
       "  </tbody>\n",
       "</table>\n",
       "</div>"
      ],
      "text/plain": [
       "                                            sentence  score category  id_no  \\\n",
       "0  It makes very strange ticking noises before it...      0   amazon      2   \n",
       "1                              It's A PIECE OF CRAP!      0   amazon      2   \n",
       "2  I guess maybe we went on an off night but it w...      0     yelp      0   \n",
       "3  So don't go there if you are looking for good ...      0     yelp      0   \n",
       "4                  What a great double cheeseburger!      1     yelp      0   \n",
       "5       Some highlights : Great quality nigiri here!      1     yelp      0   \n",
       "6                           Wow... Loved this place.      1     yelp      0   \n",
       "7  She ordered a toasted English muffin that came...      0     yelp      0   \n",
       "8                     Would not recommend to others.      0     yelp      0   \n",
       "\n",
       "                                            unigrams bin_category  \n",
       "0  [It, makes, very, strange, ticking, noises, be...    [1, 0, 0]  \n",
       "1                    [It, 's, A, PIECE, OF, CRAP, !]    [1, 0, 0]  \n",
       "2  [I, guess, maybe, we, went, on, an, off, night...    [0, 0, 1]  \n",
       "3  [So, do, n't, go, there, if, you, are, looking...    [0, 0, 1]  \n",
       "4          [What, a, great, double, cheeseburger, !]    [0, 0, 1]  \n",
       "5  [Some, highlights, :, Great, quality, nigiri, ...    [0, 0, 1]  \n",
       "6                  [Wow, ..., Loved, this, place, .]    [0, 0, 1]  \n",
       "7  [She, ordered, a, toasted, English, muffin, th...    [0, 0, 1]  \n",
       "8             [Would, not, recommend, to, others, .]    [0, 0, 1]  "
      ]
     },
     "execution_count": 51,
     "metadata": {},
     "output_type": "execute_result"
    }
   ],
   "source": [
    "mlb.fit(df_all.category)\n",
    "df_all['bin_category'] = mlb.transform(df_all['category']).tolist()\n",
    "df_all[0:9]"
   ]
  },
  {
   "cell_type": "code",
   "execution_count": 52,
   "metadata": {},
   "outputs": [
    {
     "data": {
      "text/html": [
       "<div>\n",
       "<style scoped>\n",
       "    .dataframe tbody tr th:only-of-type {\n",
       "        vertical-align: middle;\n",
       "    }\n",
       "\n",
       "    .dataframe tbody tr th {\n",
       "        vertical-align: top;\n",
       "    }\n",
       "\n",
       "    .dataframe thead th {\n",
       "        text-align: right;\n",
       "    }\n",
       "</style>\n",
       "<table border=\"1\" class=\"dataframe\">\n",
       "  <thead>\n",
       "    <tr style=\"text-align: right;\">\n",
       "      <th></th>\n",
       "      <th>sentence</th>\n",
       "      <th>score</th>\n",
       "      <th>category</th>\n",
       "      <th>id_no</th>\n",
       "      <th>unigrams</th>\n",
       "      <th>bin_category</th>\n",
       "    </tr>\n",
       "  </thead>\n",
       "  <tbody>\n",
       "    <tr>\n",
       "      <th>0</th>\n",
       "      <td>It makes very strange ticking noises before it...</td>\n",
       "      <td>0</td>\n",
       "      <td>amazon</td>\n",
       "      <td>2</td>\n",
       "      <td>[It, makes, very, strange, ticking, noises, be...</td>\n",
       "      <td>[0, 0, 1]</td>\n",
       "    </tr>\n",
       "    <tr>\n",
       "      <th>1</th>\n",
       "      <td>It's A PIECE OF CRAP!</td>\n",
       "      <td>0</td>\n",
       "      <td>amazon</td>\n",
       "      <td>2</td>\n",
       "      <td>[It, 's, A, PIECE, OF, CRAP, !]</td>\n",
       "      <td>[0, 0, 1]</td>\n",
       "    </tr>\n",
       "    <tr>\n",
       "      <th>2</th>\n",
       "      <td>I guess maybe we went on an off night but it w...</td>\n",
       "      <td>0</td>\n",
       "      <td>yelp</td>\n",
       "      <td>0</td>\n",
       "      <td>[I, guess, maybe, we, went, on, an, off, night...</td>\n",
       "      <td>[1, 0, 0]</td>\n",
       "    </tr>\n",
       "    <tr>\n",
       "      <th>3</th>\n",
       "      <td>So don't go there if you are looking for good ...</td>\n",
       "      <td>0</td>\n",
       "      <td>yelp</td>\n",
       "      <td>0</td>\n",
       "      <td>[So, do, n't, go, there, if, you, are, looking...</td>\n",
       "      <td>[1, 0, 0]</td>\n",
       "    </tr>\n",
       "    <tr>\n",
       "      <th>4</th>\n",
       "      <td>What a great double cheeseburger!</td>\n",
       "      <td>1</td>\n",
       "      <td>yelp</td>\n",
       "      <td>0</td>\n",
       "      <td>[What, a, great, double, cheeseburger, !]</td>\n",
       "      <td>[1, 0, 0]</td>\n",
       "    </tr>\n",
       "    <tr>\n",
       "      <th>5</th>\n",
       "      <td>Some highlights : Great quality nigiri here!</td>\n",
       "      <td>1</td>\n",
       "      <td>yelp</td>\n",
       "      <td>0</td>\n",
       "      <td>[Some, highlights, :, Great, quality, nigiri, ...</td>\n",
       "      <td>[1, 0, 0]</td>\n",
       "    </tr>\n",
       "    <tr>\n",
       "      <th>6</th>\n",
       "      <td>Wow... Loved this place.</td>\n",
       "      <td>1</td>\n",
       "      <td>yelp</td>\n",
       "      <td>0</td>\n",
       "      <td>[Wow, ..., Loved, this, place, .]</td>\n",
       "      <td>[1, 0, 0]</td>\n",
       "    </tr>\n",
       "    <tr>\n",
       "      <th>7</th>\n",
       "      <td>She ordered a toasted English muffin that came...</td>\n",
       "      <td>0</td>\n",
       "      <td>yelp</td>\n",
       "      <td>0</td>\n",
       "      <td>[She, ordered, a, toasted, English, muffin, th...</td>\n",
       "      <td>[1, 0, 0]</td>\n",
       "    </tr>\n",
       "    <tr>\n",
       "      <th>8</th>\n",
       "      <td>Would not recommend to others.</td>\n",
       "      <td>0</td>\n",
       "      <td>yelp</td>\n",
       "      <td>0</td>\n",
       "      <td>[Would, not, recommend, to, others, .]</td>\n",
       "      <td>[1, 0, 0]</td>\n",
       "    </tr>\n",
       "  </tbody>\n",
       "</table>\n",
       "</div>"
      ],
      "text/plain": [
       "                                            sentence  score category  id_no  \\\n",
       "0  It makes very strange ticking noises before it...      0   amazon      2   \n",
       "1                              It's A PIECE OF CRAP!      0   amazon      2   \n",
       "2  I guess maybe we went on an off night but it w...      0     yelp      0   \n",
       "3  So don't go there if you are looking for good ...      0     yelp      0   \n",
       "4                  What a great double cheeseburger!      1     yelp      0   \n",
       "5       Some highlights : Great quality nigiri here!      1     yelp      0   \n",
       "6                           Wow... Loved this place.      1     yelp      0   \n",
       "7  She ordered a toasted English muffin that came...      0     yelp      0   \n",
       "8                     Would not recommend to others.      0     yelp      0   \n",
       "\n",
       "                                            unigrams bin_category  \n",
       "0  [It, makes, very, strange, ticking, noises, be...    [0, 0, 1]  \n",
       "1                    [It, 's, A, PIECE, OF, CRAP, !]    [0, 0, 1]  \n",
       "2  [I, guess, maybe, we, went, on, an, off, night...    [1, 0, 0]  \n",
       "3  [So, do, n't, go, there, if, you, are, looking...    [1, 0, 0]  \n",
       "4          [What, a, great, double, cheeseburger, !]    [1, 0, 0]  \n",
       "5  [Some, highlights, :, Great, quality, nigiri, ...    [1, 0, 0]  \n",
       "6                  [Wow, ..., Loved, this, place, .]    [1, 0, 0]  \n",
       "7  [She, ordered, a, toasted, English, muffin, th...    [1, 0, 0]  \n",
       "8             [Would, not, recommend, to, others, .]    [1, 0, 0]  "
      ]
     },
     "execution_count": 52,
     "metadata": {},
     "output_type": "execute_result"
    }
   ],
   "source": [
    "mlb.fit(df_all.id_no)\n",
    "df_all['bin_category'] = mlb.transform(df_all['id_no']).tolist()\n",
    "df_all[0:9]"
   ]
  },
  {
   "cell_type": "code",
   "execution_count": 17,
   "metadata": {},
   "outputs": [],
   "source": [
    "from sklearn.preprocessing import binarize\n",
    "df_sample_yelp = df_all[df_all['category']== 'yelp']\n",
    "df_sample_good_review_yelp = df_sample_yelp[df_sample_yelp['score']== 1].sample(n= 350)\n",
    "count_vect_good_review_yelp = CountVectorizer(max_features = 30, stop_words = 'english')\n",
    "df_counts_good_review_yelp = count_vect_good_review_yelp.fit_transform(df_sample_good_review_yelp.sentence)\n",
    "\n",
    "df_sample_imdb = df_all[df_all['category']== 'imdb']\n",
    "df_sample_good_review_imdb = df_sample_imdb[df_sample_imdb['score']== 1].sample(n= 350)\n",
    "count_vect_good_review_imdb = CountVectorizer(max_features = 30, stop_words = 'english')\n",
    "df_counts_good_review_imdb = count_vect_good_review_imdb.fit_transform(df_sample_good_review_imdb.sentence)\n",
    "\n",
    "df_sample_amazon = df_all[df_all['category']== 'amazon']\n",
    "df_sample_good_review_amazon = df_sample_amazon[df_sample_amazon['score']== 1].sample(n= 350)\n",
    "count_vect_good_review_amazon = CountVectorizer(max_features = 30, stop_words = 'english')\n",
    "df_counts_good_review_amazon = count_vect_good_review_amazon.fit_transform(df_sample_good_review_amazon.sentence)\n",
    "\n",
    "\n"
   ]
  },
  {
   "cell_type": "code",
   "execution_count": 21,
   "metadata": {},
   "outputs": [
    {
     "data": {
      "text/plain": [
       "(1, 30)"
      ]
     },
     "execution_count": 21,
     "metadata": {},
     "output_type": "execute_result"
    }
   ],
   "source": [
    "\n",
    "list_1 = [[''],[''],['']]\n",
    "for x, y, z in zip(df_sample_good_review_yelp.sentence, df_sample_good_review_imdb.sentence, df_sample_good_review_amazon.sentence):\n",
    "    list_1[0][0] +=  x + \" \"\n",
    "    list_1[1][0] +=  y + \" \"\n",
    "    list_1[2][0] +=  z + \" \"\n",
    "\n",
    "df_counts_good_review_yelp = count_vect_good_review_yelp.transform(list_1[0])\n",
    "df_counts_good_review_imdb = count_vect_good_review_imdb.transform(list_1[1])\n",
    "df_counts_good_review_amazon = count_vect_good_review_amazon.transform(list_1[2])\n",
    "df_counts_good_review_yelp.shape\n",
    "#df_counts_good_review_imdb.shape\n"
   ]
  },
  {
   "cell_type": "code",
   "execution_count": 19,
   "metadata": {},
   "outputs": [
    {
     "name": "stdout",
     "output_type": "stream",
     "text": [
      "Cosine Similarity using count bw 1 and 2: 0.556976\n",
      "Cosine Similarity using count bw 1 and 3: 0.752643\n",
      "Cosine Similarity using count bw 2 and 3: 0.540912\n"
     ]
    }
   ],
   "source": [
    "from sklearn.metrics.pairwise import cosine_similarity\n",
    "cos_sim_count_1_2 = cosine_similarity(df_counts_good_review_yelp, df_counts_good_review_imdb, dense_output=True)\n",
    "cos_sim_count_1_3 = cosine_similarity(df_counts_good_review_yelp, df_counts_good_review_amazon, dense_output=True)\n",
    "cos_sim_count_2_3 = cosine_similarity(df_counts_good_review_imdb, df_counts_good_review_amazon, dense_output=True)\n",
    "\n",
    "print(\"Cosine Similarity using count bw 1 and 2: %(x)f\" %{\"x\":cos_sim_count_1_2})\n",
    "print(\"Cosine Similarity using count bw 1 and 3: %(x)f\" %{\"x\":cos_sim_count_1_3})\n",
    "print(\"Cosine Similarity using count bw 2 and 3: %(x)f\" %{\"x\":cos_sim_count_2_3})"
   ]
  },
  {
   "cell_type": "code",
   "execution_count": 113,
   "metadata": {},
   "outputs": [
    {
     "data": {
      "image/png": "[encoded data removed]",
      "text/plain": [
       "<Figure size 720x720 with 1 Axes>"
      ]
     },
     "metadata": {
      "needs_background": "light"
     },
     "output_type": "display_data"
    }
   ],
   "source": [
    "from sklearn.preprocessing import binarize\n",
    "from sklearn.feature_extraction.text import TfidfVectorizer\n",
    "df_sample_yelp = df_all[df_all['category']== 'yelp']\n",
    "df_sample_good_review_yelp = df_sample_yelp[df_sample_yelp['score']== 1].sample(n= 300)\n",
    "count_vect_good_review_yelp = TfidfVectorizer(max_features = 50, stop_words = 'english')\n",
    "df_counts_good_review_yelp = count_vect_good_review_yelp.fit_transform(df_sample_good_review_yelp.sentence)\n",
    "\n",
    "term_frequencies = []\n",
    "for j in range(0,df_counts_good_review.shape[1]):\n",
    "    term_frequencies.append(sum(df_counts_good_review_yelp[:,j].toarray()))\n",
    "\n",
    "name_out = count_vect_good_review_yelp.get_feature_names_out()\n",
    "name_out_ex = np.asarray(name_out)\n",
    "\n",
    "term_frequencies = np.asarray(df_counts_good_review_yelp.sum(axis=0))[0]\n",
    "\n",
    "x = dict(sorted(zip(term_frequencies, name_out_ex), reverse = True))\n",
    "key_1 = []\n",
    "value_1 = []\n",
    "for key, value in x.items():\n",
    "    key_1.append(int(key))\n",
    "    value_1.append(value)\n",
    "\n",
    "count_array = df_counts_good_review_yelp.toarray()\n",
    "plt.subplots(figsize=(10, 10))\n",
    "df = pd.DataFrame({\"y\": key_1,\n",
    "                   \"x\": value_1})\n",
    "b = sns.barplot(x= 'x',\n",
    "            y= 'y', data=df)\n",
    "b.set_xticklabels(value_1, rotation = 90);"
   ]
  },
  {
   "cell_type": "code",
   "execution_count": 31,
   "metadata": {},
   "outputs": [],
   "source": [
    "from sklearn.model_selection import train_test_split\n",
    "\n",
    "train, test = train_test_split(df_all, test_size=0.2)"
   ]
  },
  {
   "cell_type": "code",
   "execution_count": 32,
   "metadata": {},
   "outputs": [],
   "source": [
    "from sklearn.feature_extraction.text import TfidfVectorizer\n",
    "from sklearn.feature_extraction.text import CountVectorizer\n"
   ]
  },
  {
   "cell_type": "code",
   "execution_count": 33,
   "metadata": {},
   "outputs": [],
   "source": [
    "from sklearn.feature_extraction.text import CountVectorizer\n",
    "from sklearn.naive_bayes import MultinomialNB\n",
    "from sklearn.pipeline import make_pipeline\n",
    "model = make_pipeline(CountVectorizer(max_features = 1000, token_pattern=r'(?<![^\\s_])[^\\W_]{2,}(?![^\\s_])', stop_words = 'english'), \n",
    "                      MultinomialNB(alpha=1))\n",
    "model.fit(train.sentence, train.score)\n",
    "\n",
    "#Predict labels for the test set\n",
    "labels = model.predict(test.sentence)"
   ]
  },
  {
   "cell_type": "code",
   "execution_count": 34,
   "metadata": {},
   "outputs": [
    {
     "data": {
      "text/plain": [
       "0.8284804367606915"
      ]
     },
     "execution_count": 34,
     "metadata": {},
     "output_type": "execute_result"
    }
   ],
   "source": [
    "model.score(train.sentence, train.score)"
   ]
  },
  {
   "cell_type": "code",
   "execution_count": 35,
   "metadata": {},
   "outputs": [],
   "source": [
    "from sklearn.feature_extraction.text import TfidfVectorizer\n",
    "from sklearn.naive_bayes import MultinomialNB\n",
    "from sklearn.pipeline import make_pipeline\n",
    "# Create a pipeline\n",
    "model = make_pipeline(TfidfVectorizer(max_features = 100, stop_words = 'english'), \n",
    "                      MultinomialNB(alpha=1))\n",
    "\n",
    "# Fit the model with training setbb\n",
    "model.fit(train.sentence, train.id_no)\n",
    "\n",
    "#Predict labels for the test set\n",
    "labels = model.predict(test.sentence)\n",
    "\n"
   ]
  },
  {
   "cell_type": "code",
   "execution_count": 36,
   "metadata": {},
   "outputs": [
    {
     "data": {
      "text/plain": [
       "0.7224749772520473"
      ]
     },
     "execution_count": 36,
     "metadata": {},
     "output_type": "execute_result"
    }
   ],
   "source": [
    "model.score(train.sentence, train.id_no)"
   ]
  },
  {
   "cell_type": "code",
   "execution_count": 92,
   "metadata": {},
   "outputs": [
    {
     "data": {
      "text/plain": [
       "array([1, 2, 0, 2, 2, 0, 2, 2, 2, 2, 2, 2, 2, 0, 2, 0, 2, 2, 2, 2, 0, 0,\n",
       "       2, 2, 2, 2, 2, 2, 2, 2, 1, 2, 1, 1, 2, 1, 0, 2, 2, 0, 2, 2, 2, 0,\n",
       "       2, 1, 2, 2, 2, 2, 2, 0, 2, 2, 2, 1, 2, 0, 0, 2, 2, 2, 1, 0, 2, 2,\n",
       "       0, 2, 1, 0, 0, 0, 2, 1, 1, 0, 0, 2, 0, 2, 2, 2, 0, 0, 2, 0, 0, 2,\n",
       "       2, 2, 2, 0, 0, 2, 0, 2, 2, 2, 0, 2, 0, 2, 1, 1, 2, 1, 2, 2, 2, 0,\n",
       "       2, 0, 2, 0, 2, 2, 1, 2, 2, 0, 1, 2, 2, 0, 2, 2, 0, 1, 0, 2, 1, 1,\n",
       "       0, 0, 2, 2, 2, 1, 0, 0, 2, 2, 2, 2, 0, 0, 1, 0, 2, 0, 1, 0, 2, 0,\n",
       "       2, 2, 2, 1, 2, 2, 2, 2, 2, 2, 0, 2, 2, 1, 2, 0, 0, 2, 2, 0, 0, 2,\n",
       "       2, 0, 2, 1, 2, 0, 2, 0, 0, 0, 0, 2, 1, 2, 2, 2, 2, 0, 1, 0, 2, 2,\n",
       "       1, 2, 2, 0, 2, 0, 0, 2, 0, 2, 0, 0, 0, 0, 2, 2, 2, 0, 2, 2, 1, 2,\n",
       "       0, 1, 2, 2, 0, 2, 0, 2, 0, 0, 2, 2, 2, 2, 0, 2, 0, 2, 2, 2, 1, 0,\n",
       "       2, 1, 2, 1, 2, 0, 1, 1, 2, 1, 2, 2, 0, 0, 0, 2, 2, 0, 1, 2, 1, 2,\n",
       "       2, 0, 1, 2, 2, 0, 1, 0, 2, 0, 0, 2, 0, 0, 1, 2, 2, 2, 1, 2, 2, 2,\n",
       "       2, 0, 2, 0, 0, 2, 2, 2, 0, 0, 0, 1, 2, 0, 2, 0, 2, 1, 2, 2, 2, 2,\n",
       "       2, 2, 2, 2, 2, 2, 2, 1, 2, 2, 2, 0, 0, 2, 2, 1, 1, 2, 1, 2, 2, 0,\n",
       "       1, 2, 0, 2, 2, 2, 0, 2, 1, 2, 0, 1, 2, 0, 0, 0, 2, 2, 0, 0, 2, 1,\n",
       "       2, 1, 2, 1, 2, 0, 2, 2, 2, 1, 0, 1, 2, 2, 0, 0, 0, 0, 0, 2, 2, 0,\n",
       "       0, 1, 2, 2, 1, 0, 2, 0, 2, 0, 0, 0, 1, 0, 2, 1, 2, 0, 0, 2, 2, 0,\n",
       "       2, 0, 0, 0, 1, 0, 2, 2, 0, 0, 2, 0, 2, 2, 0, 2, 0, 1, 0, 0, 0, 2,\n",
       "       0, 2, 2, 1, 2, 0, 2, 1, 2, 1, 2, 2, 0, 0, 0, 0, 2, 0, 2, 2, 0, 1,\n",
       "       2, 2, 0, 2, 1, 0, 1, 2, 0, 0, 0, 2, 0, 0, 0, 1, 0, 0, 0, 0, 2, 2,\n",
       "       0, 2, 1, 1, 2, 0, 2, 2, 0, 1, 2, 0, 1, 0, 2, 1, 2, 1, 0, 0, 1, 2,\n",
       "       0, 2, 2, 2, 0, 2, 0, 0, 0, 0, 1, 0, 2, 0, 2, 2, 2, 1, 1, 1, 2, 1,\n",
       "       2, 2, 1, 0, 2, 2, 0, 2, 2, 1, 1, 2, 2, 0, 1, 2, 0, 2, 0, 2, 2, 2,\n",
       "       0, 2, 2, 2, 2, 2, 0, 1, 2, 2, 0, 2, 2, 2, 2, 0, 2, 1, 1],\n",
       "      dtype=int64)"
      ]
     },
     "execution_count": 92,
     "metadata": {},
     "output_type": "execute_result"
    }
   ],
   "source": [
    "model.predict(test.sentence)"
   ]
  },
  {
   "cell_type": "code",
   "execution_count": 87,
   "metadata": {},
   "outputs": [
    {
     "data": {
      "text/plain": [
       "Text(33.0, 0.5, 'Predicted label')"
      ]
     },
     "execution_count": 87,
     "metadata": {},
     "output_type": "execute_result"
    },
    {
     "data": {
      "image/png": "[encoded data removed]",
      "text/plain": [
       "<Figure size 432x288 with 2 Axes>"
      ]
     },
     "metadata": {
      "needs_background": "light"
     },
     "output_type": "display_data"
    }
   ],
   "source": [
    "from sklearn.metrics import confusion_matrix\n",
    "import seaborn as sns\n",
    "import matplotlib.pyplot as plt\n",
    "# Create the confusion matrix\n",
    "conf_mat = confusion_matrix(test.id_no, labels, normalize=\"true\")\n",
    "# Plot the confusion matrix\n",
    "sns.heatmap(conf_mat.T, annot=True, fmt=\".0%\", cmap=\"cividis\", xticklabels=categories, yticklabels=categories)\n",
    "plt.xlabel(\"True label\")\n",
    "plt.ylabel(\"Predicted label\")"
   ]
  },
  {
   "cell_type": "code",
   "execution_count": 93,
   "metadata": {},
   "outputs": [],
   "source": [
    "model.fit(train.sentence, train.score)\n",
    "\n",
    "#Predict labels for the test set\n",
    "labels = model.predict(test.sentence)"
   ]
  },
  {
   "cell_type": "code",
   "execution_count": 95,
   "metadata": {},
   "outputs": [
    {
     "data": {
      "text/plain": [
       "0.8411172161172161"
      ]
     },
     "execution_count": 95,
     "metadata": {},
     "output_type": "execute_result"
    }
   ],
   "source": [
    "model.score(train.sentence, train.score)"
   ]
  },
  {
   "cell_type": "code",
   "execution_count": 94,
   "metadata": {},
   "outputs": [
    {
     "data": {
      "text/plain": [
       "Text(33.0, 0.5, 'Predicted label')"
      ]
     },
     "execution_count": 94,
     "metadata": {},
     "output_type": "execute_result"
    },
    {
     "data": {
      "image/png": "[encoded data removed]",
      "text/plain": [
       "<Figure size 432x288 with 2 Axes>"
      ]
     },
     "metadata": {
      "needs_background": "light"
     },
     "output_type": "display_data"
    }
   ],
   "source": [
    "from sklearn.metrics import confusion_matrix\n",
    "import seaborn as sns\n",
    "import matplotlib.pyplot as plt\n",
    "# Create the confusion matrix\n",
    "conf_mat = confusion_matrix(test.score, labels, normalize=\"true\")\n",
    "# Plot the confusion matrix\n",
    "sns.heatmap(conf_mat.T, annot=True, fmt=\".0%\", cmap=\"cividis\", xticklabels=[\"0\",\"1\"], yticklabels=[\"0\",\"1\"])\n",
    "plt.xlabel(\"True label\")\n",
    "plt.ylabel(\"Predicted label\")"
   ]
  }
 ],
 "metadata": {
  "kernelspec": {
   "display_name": "Python 3 (ipykernel)",
   "language": "python",
   "name": "python3"
  },
  "language_info": {
   "codemirror_mode": {
    "name": "ipython",
    "version": 3
   },
   "file_extension": ".py",
   "mimetype": "text/x-python",
   "name": "python",
   "nbconvert_exporter": "python",
   "pygments_lexer": "ipython3",
   "version": "3.9.12"
  }
 },
 "nbformat": 4,
 "nbformat_minor": 2
}
